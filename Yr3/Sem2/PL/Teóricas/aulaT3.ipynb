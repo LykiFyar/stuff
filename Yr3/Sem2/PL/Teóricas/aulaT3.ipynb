{
 "cells": [
  {
   "attachments": {},
   "cell_type": "markdown",
   "metadata": {},
   "source": [
    "# Aula Teórica 3 (guião)\n",
    "### Semana de 6 a 10 de Março de 2023\n",
    "### José Carlos Ramalho\n",
    "### Sinopsis:\n",
    "\n",
    "* Expressões regulares: o módulo re em Python;\n",
    "* Construção de algumas aplicações;\n",
    "* Introdução aos analisadores léxicos."
   ]
  },
  {
   "attachments": {},
   "cell_type": "markdown",
   "metadata": {},
   "source": [
    "## Expressões Regulares em Python"
   ]
  },
  {
   "attachments": {},
   "cell_type": "markdown",
   "metadata": {},
   "source": [
    "### Simulação do scanf()"
   ]
  },
  {
   "cell_type": "code",
   "execution_count": null,
   "metadata": {},
   "outputs": [],
   "source": [
    "# Ler um inteiro: scanf(\"%d\", &num)\n",
    "\n",
    "import re\n",
    "\n",
    "inteiro = re.compile(r'^(\\+|-)?(\\d+)$')\n",
    "valor = input(\"Introduza um inteiro: \")\n",
    "if inteiro.fullmatch(valor):\n",
    "    print(\"Li um inteiro válido: \", valor)\n",
    "else:\n",
    "    print(\"Inteiro inválido: \", valor)"
   ]
  },
  {
   "cell_type": "code",
   "execution_count": null,
   "metadata": {},
   "outputs": [],
   "source": [
    "# Desafio ler um real tipo: scanf(\"%.2f\")\n",
    "\n",
    "import re\n",
    "\n",
    "real = re.compile(r'^(\\+|-)?(\\d+)(\\.\\d\\d)?$')\n",
    "valor = input(\"Introduza um número real com até duas casas decimais: \")\n",
    "if real.fullmatch(valor):\n",
    "    print(\"Li um real válido: \", valor)\n",
    "else:\n",
    "    print(\"Real inválido: \", valor)"
   ]
  },
  {
   "cell_type": "code",
   "execution_count": 4,
   "metadata": {},
   "outputs": [
    {
     "name": "stdout",
     "output_type": "stream",
     "text": [
      "Li uma lista válida:  12,78,987,5\n"
     ]
    }
   ],
   "source": [
    "# Desafio: ler uma lista de elementos (sequência de alfanuméricos) \n",
    "# separados por ',' e podendo ter espaços pelo meio: batatas, 12, cebolas, 23, abacate\n",
    "\n",
    "import re\n",
    "\n",
    "lista = re.compile(r'^\\s*\\w+(\\s*,\\s*\\w+)*$')\n",
    "valor = input(\"Introduza uma lista de elementos separados por ,: \")\n",
    "if lista.fullmatch(valor):\n",
    "    print(\"Li uma lista válida: \", valor)\n",
    "else:\n",
    "    print(\"Lista inválida: \", valor)"
   ]
  },
  {
   "cell_type": "code",
   "execution_count": 5,
   "metadata": {},
   "outputs": [
    {
     "name": "stdout",
     "output_type": "stream",
     "text": [
      "['12', '78', '987', '5']\n"
     ]
    }
   ],
   "source": [
    "# Separar os elementos da lista e colocá-los numa lista do Python\n",
    "import re\n",
    "mylista = re.split(r'\\s*,\\s*', valor)\n",
    "print(mylista)"
   ]
  },
  {
   "attachments": {},
   "cell_type": "markdown",
   "metadata": {},
   "source": [
    "### TPC2: Somador on/off\n",
    "\n",
    "![AFD do somador](somador2.png)"
   ]
  },
  {
   "cell_type": "code",
   "execution_count": 6,
   "metadata": {},
   "outputs": [
    {
     "name": "stdout",
     "output_type": "stream",
     "text": [
      "Total =  2034\n",
      "Total =  2040\n"
     ]
    }
   ],
   "source": [
    "# Sem o re\n",
    "\n",
    "texto = ''' \n",
    "Este é apenas 1 texto demonstrativo.\n",
    "Amanhã, 2023-03-07, tens de ir visitar o teu amigo.\n",
    "Até agora totalizamos: =\n",
    "ofF\n",
    "Agora já não está a somar os números: 1, 2, ...\n",
    "On, ligou-se outra vez, cuidado com o 1, 2, 3 ...\n",
    "Chegamos ao fim com =\n",
    "'''\n",
    "\n",
    "on = True\n",
    "total = 0\n",
    "ptr = 0\n",
    "\n",
    "while ptr < len(texto):\n",
    "    if texto[ptr] == '=':\n",
    "        print('Total = ', total)\n",
    "        ptr = ptr + 1\n",
    "    elif texto[ptr] in \"oO\":\n",
    "        ptr = ptr + 1\n",
    "        if texto[ptr] in \"nN\":\n",
    "            on = True\n",
    "            ptr = ptr + 1\n",
    "        elif texto[ptr] in \"fF\":\n",
    "            ptr = ptr + 1\n",
    "            if texto[ptr] in \"fF\":\n",
    "                on = False\n",
    "                ptr = ptr + 1\n",
    "    elif texto[ptr] in \"0123456789\":\n",
    "        valor = int(texto[ptr])\n",
    "        ptr = ptr + 1\n",
    "        while texto[ptr] in \"0123456789\":\n",
    "            valor = valor*10 + int(texto[ptr])\n",
    "            ptr = ptr + 1\n",
    "        if on:\n",
    "            total = total + valor\n",
    "    else:\n",
    "        ptr = ptr + 1\n",
    "\n"
   ]
  },
  {
   "cell_type": "code",
   "execution_count": 45,
   "metadata": {},
   "outputs": [
    {
     "name": "stdout",
     "output_type": "stream",
     "text": [
      "(?P<INT>(\\+|-)?\\d+)|(?P<ON>(i:on))|(?P<OFF>(i:off))|(?P<EQ>=)|(?P<SKIP>\\s+)|(?P<UNKOWN>.)\n",
      "<re.Match object; span=(0, 2), match=' \\n'>\n",
      "0\n",
      "2\n",
      "(None, None, None, None, None, None, None, ' \\n', None)\n",
      "{'INT': None, 'ON': None, 'OFF': None, 'EQ': None, 'SKIP': ' \\n', 'UNKOWN': None}\n"
     ]
    }
   ],
   "source": [
    "# Com o re\n",
    "import re\n",
    "\n",
    "texto = ''' \n",
    "Este é apenas 1 texto demonstrativo.\n",
    "Amanhã, 2023-03-07, tens de ir visitar o teu amigo.\n",
    "Até agora totalizamos: =\n",
    "ofF\n",
    "Agora já não está a somar os números: 1, 2, ...\n",
    "On, ligou-se outra vez, cuidado com o 1, 2, 3 ...\n",
    "Chegamos ao fim com =\n",
    "'''\n",
    "\n",
    "token_specification = [\n",
    "        ('INT', r'(\\+|-)?\\d+'),             \n",
    "        ('ON',  r'(?i:on)'),             \n",
    "        ('OFF', r'(?i:off)'),\n",
    "        ('EQ', r'='),\n",
    "        ('SKIP', r'\\s+'),\n",
    "        ('UNKNOWN', r'.')\n",
    "    ]\n",
    "\n",
    "mypattern = '|'.join('(?P<%s>%s)' % pair for pair in token_specification)\n",
    "print(mypattern)\n",
    "m = re.match(mypattern, texto)\n",
    "print(m) \n",
    "print(m.start())\n",
    "print(m.end())\n",
    "print(m.groups())\n",
    "print(m.groupdict())"
   ]
  },
  {
   "cell_type": "code",
   "execution_count": 66,
   "metadata": {},
   "outputs": [
    {
     "name": "stdout",
     "output_type": "stream",
     "text": [
      "Total =  2014\n",
      "Total =  2014\n",
      "Total =  2020\n"
     ]
    }
   ],
   "source": [
    "# Com o re\n",
    "import re\n",
    "\n",
    "texto = ''' \n",
    "Este é apenas 1 texto demonstrativo.\n",
    "Amanhã, 2023-03-07, tens de ir visitar o teu amigo.\n",
    "Até agora totalizamos: =\n",
    "ofF\n",
    "Agora já não está a somar os números: 1, 2, ...\n",
    "Ora vamos ver: =\n",
    "On, ligou-se outra vez, cuidado com o 1, 2, 3 ...\n",
    "Chegamos ao fim com =\n",
    "'''\n",
    "\n",
    "token_specification = [\n",
    "        ('INT', r'(\\+|-)?\\d+'),             \n",
    "        ('ON',  r'(?i:on)'),             \n",
    "        ('OFF', r'(?i:off)'),\n",
    "        ('EQ', r'='),\n",
    "        ('SKIP', r'\\s+'),\n",
    "        ('UNKNOWN', r'.')\n",
    "    ]\n",
    "\n",
    "mypattern = '|'.join('(?P<%s>%s)' % pair for pair in token_specification)\n",
    "\n",
    "on = True\n",
    "total = 0\n",
    "ptr = 0\n",
    "\n",
    "while ptr < len(texto):\n",
    "    m = re.match(mypattern, texto[ptr:])\n",
    "    token = m.groupdict()\n",
    "    ptr = ptr + m.end()\n",
    "    if token['EQ']:\n",
    "        print('Total = ', total)\n",
    "    elif token['ON']:\n",
    "        on = True\n",
    "    elif token['OFF']:\n",
    "        on = False\n",
    "    elif token['INT']:\n",
    "        if on:\n",
    "            valor = int(m.group(1))\n",
    "            total = total + valor\n",
    "    elif token['SKIP']:\n",
    "        pass\n",
    "    elif token['UNKNOWN']:\n",
    "        pass\n",
    "\n"
   ]
  },
  {
   "cell_type": "code",
   "execution_count": 71,
   "metadata": {},
   "outputs": [
    {
     "name": "stdout",
     "output_type": "stream",
     "text": [
      "Total =  2014\n",
      "Total =  2014\n",
      "Total =  2020\n"
     ]
    }
   ],
   "source": [
    "# Com o re.findall()\n",
    "\n",
    "import re\n",
    "\n",
    "texto = ''' Este é apenas 1 texto demonstrativo. Amanhã, 2023-03-07, tens de ir visitar o teu amigo.\n",
    "Até agora totalizamos: = ofF  Agora já não está a somar os números: 1, 2, ...\n",
    "Ora vamos ver: = On, ligou-se outra vez, cuidado com o 1, 2, 3 ...  Chegamos ao fim com = '''\n",
    "\n",
    "ON = True\n",
    "total = 0\n",
    "\n",
    "for i,on,off,equ,skip,unk in re.findall(r'''\n",
    "         ([+-]?\\d+)             \n",
    "      |  (on)             \n",
    "      |  (off)\n",
    "      |  (=)\n",
    "      |  (\\s+)   #...podíamos omitir\n",
    "      |  (.)     #...podíamos omitir\n",
    "    ''', texto, re.I|re.X):\n",
    " \n",
    "    if   equ      : print('Total = ', total)\n",
    "    elif on       : ON = True\n",
    "    elif off      : ON = False\n",
    "    elif i and ON : total = total + int(i)\n",
    "    #  elif skip  : pass\n",
    "    #  elif unk   : pass"
   ]
  },
  {
   "cell_type": "code",
   "execution_count": 6,
   "metadata": {},
   "outputs": [
    {
     "name": "stdout",
     "output_type": "stream",
     "text": [
      "<re.Match object; span=(15, 16), match='1'> (None, '1')\n",
      "<re.Match object; span=(46, 50), match='2023'> (None, '2023')\n",
      "<re.Match object; span=(50, 53), match='-03'> ('-', '03')\n",
      "<re.Match object; span=(53, 56), match='-07'> ('-', '07')\n",
      "<re.Match object; span=(158, 159), match='1'> (None, '1')\n",
      "<re.Match object; span=(161, 162), match='2'> (None, '2')\n",
      "<re.Match object; span=(223, 224), match='1'> (None, '1')\n",
      "<re.Match object; span=(226, 227), match='2'> (None, '2')\n",
      "<re.Match object; span=(229, 230), match='3'> (None, '3')\n"
     ]
    }
   ],
   "source": [
    "# Com o re.finditer() e numa abordagem diferente\n",
    "import re\n",
    "\n",
    "texto = ''' Este é apenas 1 texto demonstrativo. Amanhã, 2023-03-07, tens de ir visitar o teu amigo.\n",
    "Até agora totalizamos: = ofF  Agora já não está a somar os números: 1, 2, ...\n",
    "Ora vamos ver: = On, ligou-se outra vez, cuidado com o 1, 2, 3 ...  Chegamos ao fim com = '''\n",
    "\n",
    "inteiro = r'(\\+|-)?(\\d+)'\n",
    "pint = re.compile(inteiro)\n",
    "sinal = 1\n",
    "total = 0\n",
    "\n",
    "encontrados = pint.finditer(texto)\n",
    "for m in encontrados:\n",
    "    print(m, m.groups())"
   ]
  },
  {
   "cell_type": "code",
   "execution_count": 14,
   "metadata": {},
   "outputs": [
    {
     "name": "stdout",
     "output_type": "stream",
     "text": [
      "Total =  2014\n",
      "Total =  2014\n",
      "Total =  2020\n"
     ]
    }
   ],
   "source": [
    "# Com o re.finditer() \n",
    "\n",
    "texto = ''' Este é apenas 1 texto demonstrativo. Amanhã, 2023-03-07, tens de ir visitar o teu amigo.\n",
    "Até agora totalizamos: = ofF  Agora já não está a somar os números: 1, 2, ...\n",
    "Ora vamos ver: = On, ligou-se outra vez, cuidado com o 1, 2, 3 ...  Chegamos ao fim com = '''\n",
    "\n",
    "ON = True\n",
    "total = 0\n",
    "tokens = re.finditer(r'''\n",
    "         ([+-]?\\d+)             \n",
    "      |  (on)             \n",
    "      |  (off)\n",
    "      |  (=)\n",
    "      |  (\\s+)   #...podíamos omitir\n",
    "      |  (.)     #...podíamos omitir\n",
    "    ''', texto, re.I|re.X)\n",
    "\n",
    "for t in tokens:\n",
    "    i,on,off,equ,skip,unk = t.groups()\n",
    " \n",
    "    if   equ      : print('Total = ', total)\n",
    "    elif on       : ON = True\n",
    "    elif off      : ON = False\n",
    "    elif i and ON : total = total + int(i)\n",
    "    #  elif skip  : pass\n",
    "    #  elif unk   : pass"
   ]
  },
  {
   "attachments": {},
   "cell_type": "markdown",
   "metadata": {},
   "source": [
    "## Análise Léxica\n",
    "\n",
    "Símbolos terminais:\n",
    "1. Sinais: são constituídos por um caráter;\n",
    "2. Palavras reservadas: strings constantes;\n",
    "3. Terminais variáveis: identificadores, inteiros, etc."
   ]
  },
  {
   "attachments": {},
   "cell_type": "markdown",
   "metadata": {},
   "source": [
    "``` \n",
    "a = 34 + 23-7*2\n",
    "\n",
    "ID ATRIB INT OP INT OP INT OP INT\n",
    "\n",
    "id = r'[_A-Za-z]\\w*'\n",
    "iss = r'\\d+'\n",
    "eq = r'='\n",
    "op = r'[+\\-*/]'\n",
    "\n",
    "\n",
    "\n",
    "AFND \n",
    "AFD = (S, Z, Estados, funçãoTransição)\n",
    "\n",
    "    d   _   letra   \n",
    "--------------------\n",
    "S   B   A   A\n",
    "B   B   -   -\n",
    "A   A   A   A\n",
    "\n",
    "inicial = S\n",
    "final = [A,B] \n",
    "estado = inicial\n",
    "\n",
    "for t in input:\n",
    "    estado = tabela[estado, t]\n",
    "if estado in final:\n",
    "    Sucesso\n",
    "```"
   ]
  },
  {
   "attachments": {},
   "cell_type": "markdown",
   "metadata": {},
   "source": [
    "## Ply: `https://github.com/dabeaz/ply/blob/master/doc/ply.md`\n",
    "\n",
    "* lex.py\n",
    "* yacc.py"
   ]
  },
  {
   "attachments": {},
   "cell_type": "markdown",
   "metadata": {},
   "source": [
    "### Lex\n",
    "\n",
    "`In: x = 3 + 42 * (s - t)`\n",
    "\n",
    "`Out: 'x','=', '3', '+', '42', '*', '(', 's', '-', 't', ')'`"
   ]
  },
  {
   "attachments": {},
   "cell_type": "markdown",
   "metadata": {},
   "source": [
    "#### Nomeamos os tokens\n",
    "\n",
    "`'ID','EQUALS','NUMBER','PLUS','NUMBER','TIMES', 'LPAREN','ID','MINUS','ID','RPAREN'`\n",
    "\n",
    "```\n",
    "('ID','x'), ('EQUALS','='), ('NUMBER','3'), \n",
    "('PLUS','+'), ('NUMBER','42'), ('TIMES','*'),\n",
    "('LPAREN','('), ('ID','s'), ('MINUS','-'),\n",
    "('ID','t'), ('RPAREN',')')\n",
    "```"
   ]
  },
  {
   "cell_type": "code",
   "execution_count": null,
   "metadata": {},
   "outputs": [],
   "source": [
    "# Exemplo do manual\n",
    "# ------------------------------------------------------------\n",
    "# calclex.py\n",
    "#\n",
    "# tokenizer for a simple expression evaluator for\n",
    "# numbers and +,-,*,/\n",
    "# ------------------------------------------------------------\n",
    "import ply.lex as lex\n",
    "\n",
    "# List of token names.   This is always required\n",
    "tokens = (\n",
    "   'NUMBER',\n",
    "   'PLUS',\n",
    "   'MINUS',\n",
    "   'TIMES',\n",
    "   'DIVIDE',\n",
    "   'LPAREN',\n",
    "   'RPAREN',\n",
    ")\n",
    "\n",
    "# Regular expression rules for simple tokens\n",
    "t_PLUS    = r'\\+'\n",
    "t_MINUS   = r'-'\n",
    "t_TIMES   = r'\\*'\n",
    "t_DIVIDE  = r'/'\n",
    "t_LPAREN  = r'\\('\n",
    "t_RPAREN  = r'\\)'\n",
    "\n",
    "# A regular expression rule with some action code\n",
    "def t_NUMBER(t):\n",
    "    r'\\d+'\n",
    "    t.value = int(t.value)    \n",
    "    return t\n",
    "\n",
    "# Define a rule so we can track line numbers\n",
    "def t_newline(t):\n",
    "    r'\\n+'\n",
    "    t.lexer.lineno += len(t.value)\n",
    "\n",
    "# A string containing ignored characters (spaces and tabs)\n",
    "t_ignore  = ' \\t'\n",
    "\n",
    "# Error handling rule\n",
    "def t_error(t):\n",
    "    print(\"Illegal character '%s'\" % t.value[0])\n",
    "    t.lexer.skip(1)\n",
    "\n",
    "# Build the lexer\n",
    "lexer = lex.lex()\n",
    "\n",
    "# Test it out\n",
    "data = '''\n",
    "3 + 4 * 10\n",
    "  + -20 *2\n",
    "'''\n",
    "\n",
    "# Give the lexer some input\n",
    "lexer.input(data)\n",
    "\n",
    "for tok in lexer:\n",
    "    print(tok)\n",
    "    print(tok.type, tok.value, tok.lineno, tok.lexpos)"
   ]
  }
 ],
 "metadata": {
  "interpreter": {
   "hash": "aee8b7b246df8f9039afb4144a1f6fd8d2ca17a180786b69acc140d282b71a49"
  },
  "kernelspec": {
   "display_name": "Python 3.9.4 64-bit",
   "language": "python",
   "name": "python3"
  },
  "language_info": {
   "codemirror_mode": {
    "name": "ipython",
    "version": 3
   },
   "file_extension": ".py",
   "mimetype": "text/x-python",
   "name": "python",
   "nbconvert_exporter": "python",
   "pygments_lexer": "ipython3",
   "version": "3.9.4"
  },
  "orig_nbformat": 4
 },
 "nbformat": 4,
 "nbformat_minor": 2
}
