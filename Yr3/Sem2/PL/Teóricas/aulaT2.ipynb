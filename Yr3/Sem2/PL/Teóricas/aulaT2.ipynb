{
 "cells": [
  {
   "attachments": {},
   "cell_type": "markdown",
   "metadata": {},
   "source": [
    "# Aula Teórica 2 (guião)\n",
    "### Semana de 27 de Fevereiro a 3 de Março de 2023\n",
    "### José Carlos Ramalho\n",
    "### Sinopsis:\n",
    "Expressões regulares: o módulo re em Python"
   ]
  },
  {
   "attachments": {},
   "cell_type": "markdown",
   "metadata": {},
   "source": [
    "## Expressões Regulares em Python"
   ]
  },
  {
   "attachments": {},
   "cell_type": "markdown",
   "metadata": {},
   "source": [
    "### Strings e Raw Strings"
   ]
  },
  {
   "cell_type": "code",
   "execution_count": 5,
   "metadata": {},
   "outputs": [
    {
     "name": "stdout",
     "output_type": "stream",
     "text": [
      "\\ \\\\\n"
     ]
    }
   ],
   "source": [
    "s1 = \"\\\\\"\n",
    "s2 = r\"\\\\\"\n",
    "print(s1, s2)"
   ]
  },
  {
   "attachments": {},
   "cell_type": "markdown",
   "metadata": {},
   "source": [
    "### Greedy and non greedy quantifiers"
   ]
  },
  {
   "cell_type": "code",
   "execution_count": 4,
   "metadata": {},
   "outputs": [
    {
     "name": "stdout",
     "output_type": "stream",
     "text": [
      "<re.Match object; span=(0, 48), match=\"<a href='http://exemple.com'>This is a link!</a>\">\n",
      "<re.Match object; span=(0, 29), match=\"<a href='http://exemple.com'>\">\n",
      "<re.Match object; span=(8, 28), match=\"'http://exemple.com'\">\n"
     ]
    }
   ],
   "source": [
    "import re\n",
    "texto = \"<a href='http://exemple.com'>This is a link!</a>\"\n",
    "\n",
    "er1 = re.compile(r'<.*>')\n",
    "print(er1.match(texto))\n",
    "er2 = re.compile(r'<.*?>')\n",
    "print(er2.match(texto))\n",
    "\n",
    "print(re.search(r\"'.*'\", texto))"
   ]
  },
  {
   "attachments": {},
   "cell_type": "markdown",
   "metadata": {},
   "source": [
    "### Grupos de captura"
   ]
  },
  {
   "cell_type": "code",
   "execution_count": 5,
   "metadata": {},
   "outputs": [
    {
     "name": "stdout",
     "output_type": "stream",
     "text": [
      "<re.Match object; span=(0, 4), match='-123'>\n",
      "('-', '123')\n",
      "-123\n",
      "-\n",
      "123\n"
     ]
    }
   ],
   "source": [
    "import re\n",
    "\n",
    "er3 = re.compile(r'(\\+|-)?(\\d+)')\n",
    "print(er3.match(\"-123\"))\n",
    "print(er3.match(\"-123\").groups())\n",
    "print(er3.match(\"-123\").group(0))\n",
    "print(er3.match(\"-123\").group(1))\n",
    "print(er3.match(\"-123\").group(2))"
   ]
  },
  {
   "cell_type": "code",
   "execution_count": 10,
   "metadata": {},
   "outputs": [
    {
     "name": "stdout",
     "output_type": "stream",
     "text": [
      "<re.Match object; span=(0, 29), match=\"<a href='http://exemple.com'>\">\n",
      "(\"a href='http://exemple.com'\",)\n",
      "<re.Match object; span=(0, 9), match='<address>'>\n",
      "('address',)\n",
      "address\n"
     ]
    }
   ],
   "source": [
    "import re\n",
    "texto = \"<a href='http://exemple.com'>This is a link!</a>\"\n",
    "texto2 = \"<address>Isto é um exemplo</address>\"\n",
    "\n",
    "er4 = re.compile(r'<(.*?)>')\n",
    "print(er4.match(texto))\n",
    "print(er4.match(texto).groups())\n",
    "\n",
    "er9 = re.compile(r'<\\s*(\\w+)\\b>')\n",
    "print(er9.match(texto2))\n",
    "print(er9.match(texto2).groups())\n",
    "print(er9.match(texto2).group(1))"
   ]
  },
  {
   "attachments": {},
   "cell_type": "markdown",
   "metadata": {},
   "source": [
    "#### Exercício: apanhar o texto do link"
   ]
  },
  {
   "cell_type": "code",
   "execution_count": 12,
   "metadata": {},
   "outputs": [
    {
     "name": "stdout",
     "output_type": "stream",
     "text": [
      "<re.Match object; span=(0, 48), match=\"<a href='http://exemple.com'>This is a link!</a>\">\n",
      "This is a link!\n"
     ]
    }
   ],
   "source": [
    "import re\n",
    "texto = \"<a href='http://exemple.com'>This is a link!</a>\"\n",
    "er10 = re.compile(r'(<[^>]*>)([^<]*)(<[^>]*>)')\n",
    "print(er10.match(texto))\n",
    "_, tlink, _ = er10.match(texto).groups()\n",
    "print(tlink)"
   ]
  },
  {
   "attachments": {},
   "cell_type": "markdown",
   "metadata": {},
   "source": [
    "### Grupos de captura com reutilização"
   ]
  },
  {
   "cell_type": "code",
   "execution_count": 15,
   "metadata": {},
   "outputs": [
    {
     "name": "stdout",
     "output_type": "stream",
     "text": [
      "<re.Match object; span=(0, 28), match=\"<a href='http://exemple.com'\">\n",
      "(\"'\", 'http://exemple.com', \"'\")\n",
      "http://exemple.com\n"
     ]
    }
   ],
   "source": [
    "# Apanhar o URL\n",
    "import re \n",
    "texto = \"<a href='http://exemple.com\\'>This is a link!</a>\"\n",
    "er5 = re.compile(r'<a\\s*href=([\\'\"])(.*)(\\1)')\n",
    "print(er5.match(texto))\n",
    "print(er5.match(texto).groups())\n",
    "print(er5.match(texto).group(2))"
   ]
  },
  {
   "attachments": {},
   "cell_type": "markdown",
   "metadata": {},
   "source": [
    "#### Exercício: Todas as strings binárias que começam e terminam pelo mesmo dígito binário"
   ]
  },
  {
   "cell_type": "code",
   "execution_count": 20,
   "metadata": {},
   "outputs": [
    {
     "name": "stdout",
     "output_type": "stream",
     "text": [
      "111 1 1\n",
      "10001 1 1\n",
      "101010101 1 1\n",
      "00110 0 0\n"
     ]
    }
   ],
   "source": [
    "import re\n",
    "binarias = [\"0101010101\", \"111\", \"10001\", \"110\", \"101010101\", \"00110\", \"1\"]\n",
    "er6 = re.compile(r'^([01])[01]*(\\1)$')\n",
    "\n",
    "for b in binarias:\n",
    "    if er6.match(b):\n",
    "       print(er6.match(b).group(0), er6.match(b).group(1), er6.match(b).group(2))\n",
    " "
   ]
  },
  {
   "attachments": {},
   "cell_type": "markdown",
   "metadata": {},
   "source": [
    "### Named Groups: `(?P<name>...)`"
   ]
  },
  {
   "cell_type": "code",
   "execution_count": 21,
   "metadata": {},
   "outputs": [
    {
     "name": "stdout",
     "output_type": "stream",
     "text": [
      "<re.Match object; span=(14, 43), match='<nome>Afonso Henriques</nome>'>\n",
      "Afonso Henriques\n"
     ]
    }
   ],
   "source": [
    "import re\n",
    "texto = \"<p>Como dizia <nome>Afonso Henriques</nome>...</p>\"\n",
    "er7 = re.compile(r'<nome>(?P<nome>.*)<\\/nome>')\n",
    "print(er7.search(texto))\n",
    "print(er7.search(texto).group('nome'))"
   ]
  },
  {
   "cell_type": "code",
   "execution_count": 22,
   "metadata": {},
   "outputs": [
    {
     "name": "stdout",
     "output_type": "stream",
     "text": [
      "<re.Match object; span=(0, 50), match='<p>Como dizia <nome>Afonso Henriques</nome>...</p>\n",
      "p\n",
      "Como dizia <nome>Afonso Henriques</nome>...\n",
      "('p', 'Como dizia <nome>Afonso Henriques</nome>...')\n",
      "{'tag': 'p', 'conteudo': 'Como dizia <nome>Afonso Henriques</nome>...'}\n"
     ]
    }
   ],
   "source": [
    "# Com reutilização\n",
    "import re\n",
    "texto = \"<p>Como dizia <nome>Afonso Henriques</nome>...</p>\"\n",
    "er7 = re.compile(r'<(?P<tag>\\w+)>(?P<conteudo>.*)<\\/(?P=tag)>')\n",
    "print(er7.search(texto))\n",
    "print(er7.search(texto).group('tag'))\n",
    "print(er7.search(texto).group('conteudo'))\n",
    "print(er7.search(texto).groups())\n",
    "print(er7.search(texto).groupdict())"
   ]
  },
  {
   "cell_type": "code",
   "execution_count": 42,
   "metadata": {},
   "outputs": [
    {
     "name": "stdout",
     "output_type": "stream",
     "text": [
      "<re.Match object; span=(0, 6), match='5 - 15'>\n",
      "('5', '- 15', '-')\n",
      "{'val': '5', 'op': '-'}\n"
     ]
    }
   ],
   "source": [
    "# 5 - 15 + 23 ... - 7\n",
    "import re\n",
    "texto = \"5 - 15 + 23 - 43 - 7\"\n",
    "er8 = re.compile(r'\\s*(?P<val>\\d+)\\s*((?P<op>[+\\-])\\s*\\d+)*')\n",
    "print(er8.search(texto))\n",
    "print(er8.search(texto).groups())\n",
    "print(er8.search(texto).groupdict())"
   ]
  },
  {
   "attachments": {},
   "cell_type": "markdown",
   "metadata": {},
   "source": [
    "#### Exercício: Processar um ficheiro CSV"
   ]
  },
  {
   "cell_type": "code",
   "execution_count": 23,
   "metadata": {},
   "outputs": [
    {
     "name": "stdout",
     "output_type": "stream",
     "text": [
      "<re.Match object; span=(0, 45), match='A22345;Ana Maria Domingues;LEI;12;16;14;13;12'>\n",
      "('A22345', 'Ana Maria Domingues', 'Domingues', 'LEI', '12', '16', '14', '13', '12')\n",
      "A22345 Ana Maria Domingues\n"
     ]
    }
   ],
   "source": [
    "import re\n",
    "# Processar uma linha de CSV\n",
    "linha = \"A22345;Ana Maria Domingues;LEI;12;16;14;13;12\"\n",
    "aluno = re.compile(r'(?P<id>A\\d+);(?P<nome>(\\w+|\\s+)+);(?P<curso>\\w+);(?P<nota1>\\d+);(?P<nota2>\\d+);(?P<nota3>\\d+);(?P<nota4>\\d+);(?P<nota5>\\d+)')\n",
    "print(aluno.search(linha))\n",
    "print(aluno.search(linha).groups())\n",
    "\n",
    "adic = aluno.search(linha).groupdict()\n",
    "print(adic['id'], adic['nome'])"
   ]
  },
  {
   "attachments": {},
   "cell_type": "markdown",
   "metadata": {},
   "source": [
    "#### Exercício: Gneralizar o exercício anterior e aplicar a um dataset"
   ]
  },
  {
   "cell_type": "code",
   "execution_count": 25,
   "metadata": {},
   "outputs": [
    {
     "name": "stdout",
     "output_type": "stream",
     "text": [
      "[{'id': 'a1', 'nome': 'Aysha Melanie Gilberto', 'curso': 'LEI', 'nota1': '12', 'nota2': '8', 'nota3': '19', 'nota4': '8'}, {'id': 'a2', 'nome': 'Igor André Cantanhede', 'curso': 'ENGFIS', 'nota1': '12', 'nota2': '16', 'nota3': '18', 'nota4': '20'}, {'id': 'a3', 'nome': 'Laurénio Narciso', 'curso': 'ENGFIS', 'nota1': '8', 'nota2': '14', 'nota3': '15', 'nota4': '14'}]\n"
     ]
    }
   ],
   "source": [
    "# alunos.csv\n",
    "alunos = [\n",
    "    \"a1,Aysha Melanie Gilberto,LEI,12,8,19,8\",\n",
    "    \"a2,Igor André Cantanhede,ENGFIS,12,16,18,20\",\n",
    "    \"a3,Laurénio Narciso,ENGFIS,8,14,15,14\"\n",
    "]\n",
    "\n",
    "aluno = re.compile(r'(?P<id>a\\d+),(?P<nome>(\\w+|\\s+)+),(?P<curso>\\w+),(?P<nota1>\\d+),(?P<nota2>\\d+),(?P<nota3>\\d+),(?P<nota4>\\d+)')\n",
    "\n",
    "turma = []\n",
    "for a in alunos:\n",
    "    turma.append(aluno.match(a).groupdict())\n",
    "\n",
    "print(turma)"
   ]
  },
  {
   "attachments": {},
   "cell_type": "markdown",
   "metadata": {},
   "source": [
    "### Groups: start, end, span"
   ]
  },
  {
   "cell_type": "code",
   "execution_count": 26,
   "metadata": {},
   "outputs": [
    {
     "name": "stdout",
     "output_type": "stream",
     "text": [
      "<re.Match object; span=(0, 2), match='12'>\n",
      "24\n",
      "12\n",
      "0\n",
      "2\n",
      "(0, 2)\n"
     ]
    }
   ],
   "source": [
    "import re\n",
    "\n",
    "p = re.compile(r'\\d+')\n",
    "print(p.match(\"12\"))\n",
    "digitos = p.match(\"12\").group()\n",
    "print(int(digitos)*2)\n",
    "print(p.match(\"12\").group())\n",
    "print(p.match(\"12\").start())\n",
    "print(p.match(\"12\").end())\n",
    "print(p.match(\"12\").span())"
   ]
  },
  {
   "attachments": {},
   "cell_type": "markdown",
   "metadata": {},
   "source": [
    "### Funções do módulo re\n",
    "\n",
    "* `re.search(pattern, string, flags=0)` - Percorre a string até à primeira localização onde ocorra um match com a expressão regular; Retorna `None` se nenhuma parte da string corresponder ao padrão;\n",
    "\n",
    "* `re.match(pattern, string, flags=0)` - Se 0 ou mais carateres no início da string corresponderem ao padrão, retorna um objeto Match, caso contrario retorna `None`;\n",
    "\n",
    "* `re.fullmatch(pattern, string, flags=0)` - Se o padrão corresponder à totalidade da string retorna um objeto Match, caso contrario retorna `None`;\n",
    "\n",
    "* `re.split(pattern, string, maxsplit=0, flags=0)` - Parte a string de acordo com o padrão devolvendo uma lista das partes. \n",
    "O parâmetro `maxsplit` pode ser usado para definir um limite de divisões (por omissão é 0, o que corresponde a divisões infinitas).;\n",
    "\n",
    "* `re.findall(pattern, string, flags=0)` - Retorna todas as partes que não se sobrepoêm e que fazem match com o padrão;\n",
    "\n",
    "* `re.finditer(pattern, string, flags=0)` - Retorna um iterador sobre as partes que não se sobrepoêm e que fazem match com o padrão;\n",
    "\n",
    "* `re.sub(pattern, repl, string, count=0, flags=0)` - Substitui todas as correspondências da expressão regular `pattern` na `string` por `repl`. `repl` pode ser uma string, uma expressão regular ou uma função que recebe um objeto Match e devolve uma string. O parâmetro `count` determina o limite de substituições (por omissão é 0, ou seja, não há limite);\n",
    "\n",
    "* `re.subn(pattern, repl, string, count=0, flags=0)` - \n",
    "Realiza a mesma operação que a anterior, `sub()`, mas retorna um tuplo `(nova_string, num_subs)`."
   ]
  },
  {
   "attachments": {},
   "cell_type": "markdown",
   "metadata": {},
   "source": [
    "#### `fullmatch()`"
   ]
  },
  {
   "cell_type": "code",
   "execution_count": 27,
   "metadata": {},
   "outputs": [
    {
     "name": "stdout",
     "output_type": "stream",
     "text": [
      "Cartão válido!\n"
     ]
    }
   ],
   "source": [
    "import re\n",
    "\n",
    "credit_card_pattern = r'\\d{4}-\\d{4}-\\d{4}-\\d{4}'\n",
    "credit_card_number = '1234-5678-9012-3456'\n",
    "\n",
    "if re.fullmatch(credit_card_pattern, credit_card_number):\n",
    "    print('Cartão válido!')\n",
    "else:\n",
    "    print('Cartão inválido!')"
   ]
  },
  {
   "attachments": {},
   "cell_type": "markdown",
   "metadata": {},
   "source": [
    "#### `findall()`"
   ]
  },
  {
   "cell_type": "code",
   "execution_count": 52,
   "metadata": {},
   "outputs": [
    {
     "name": "stdout",
     "output_type": "stream",
     "text": [
      "['support@domain.com', 'sales@domain.com']\n"
     ]
    }
   ],
   "source": [
    "import re\n",
    "\n",
    "text = \"Contact us at support@domain.com or sales@domain.com\"\n",
    "email_pattern = r'\\b[A-Za-z0-9._%+-]+@[A-Za-z0-9.-]+\\.[A-Z|a-z]{2,}\\b'\n",
    "\n",
    "email_list = re.findall(email_pattern, text)\n",
    "print(email_list)"
   ]
  },
  {
   "attachments": {},
   "cell_type": "markdown",
   "metadata": {},
   "source": [
    "#### `finditer()`"
   ]
  },
  {
   "cell_type": "code",
   "execution_count": 54,
   "metadata": {},
   "outputs": [
    {
     "name": "stdout",
     "output_type": "stream",
     "text": [
      "Found email 'support@domain.com' at positions 14-31.\n",
      "Found email 'sales@domain.com' at positions 36-51.\n",
      "[<re.Match object; span=(14, 32), match='support@domain.com'>, <re.Match object; span=(36, 52), match='sales@domain.com'>]\n"
     ]
    }
   ],
   "source": [
    "import re\n",
    "\n",
    "text = \"Contact us at support@domain.com or sales@domain.com\"\n",
    "email_pattern = r'\\b[A-Za-z0-9._%+-]+@[A-Za-z0-9.-]+\\.[A-Z|a-z]{2,}\\b'\n",
    "\n",
    "email_list = []\n",
    "\n",
    "for match in re.finditer(email_pattern, text):\n",
    "    email_list.append(match)\n",
    "    start_pos = match.start()\n",
    "    end_pos = match.end()\n",
    "    email = match.group()\n",
    "    print(f\"Found email '{email}' at positions {start_pos}-{end_pos-1}.\")\n",
    "\n",
    "print(email_list)"
   ]
  },
  {
   "cell_type": "code",
   "execution_count": 31,
   "metadata": {},
   "outputs": [],
   "source": [
    "import re\n",
    "# Apanhar as palavras terminadas em mente: Qual é o problema?\n",
    "p = re.compile(r'\\w*mente\\b')\n",
    "texto = \"\"\"\n",
    "Fernando Pessoa\n",
    "A população de Portugal encontra-se dividida, psicologicamente,\n",
    "Interregno\n",
    "\n",
    "A população de Portugal encontra-se hoje dividida, psicologicamente, em cinco grupos distintos. \n",
    "O primeiro grupo, e o maior, que consiste na quase totalidade da nossa larga percentagem de analfabetos e em uma razoável parte do povo, e baixa burguesia, \n",
    "que não o é, apresenta os característicos distintivos do indivíduo português — a sua ausência de personalidade, a sua afectividade impulsiva e incoerente, \n",
    "a sua descontinuidade de vontade e de pensamento, e o seu amor pátrio animal e firme, pelo qual se congrega com facilidade em tomo do que constitua, ou julgue \n",
    "que constitui, a Nação.\n",
    "\n",
    "O segundo grupo, mais restrito, mas suficientemente largo para ser importante na vida nacional, é o que forma a massa dos partidos políticos; formam-no grande parte \n",
    "da baixa burguesia, grande parte da média burguesia, e uma parte incerta da alta burguesia. \n",
    "Este português, tendo a mesma descontinuidade que o do primeiro grupo, já não tem as boas qualidades fundamentais, que aquele distinguem. \n",
    "O seu patriotismo, às vezes real, é todavia desfigurado por partidarismos vários, que por vezes se sobrepõem a ele. \n",
    "Ignorante, e, por isso, admirador de um estrangeiro que desconhece, esta gente é a que crê nos sagrados princípios da revolução, \n",
    "ou nos princípios igualmente sagrados da Monarquia Integral. Indolente, vivendo de empenhos e de cargos públicos que não exerce, \n",
    "é esta camada o principal obstáculo à reformação da Nação Portuguesa. O português simples é um simples animal afectivo e perturbado: \n",
    "uma forte superior direcção orienta-o e leva-o para onde quer. Estes outros, supondo que têm opiniões, têm-nas todavia o bastante para constituir um estorvo. \n",
    "Duplo estorvo — porque contagiam os estúpidos ingénuos que lhes estão abaixo e porque resistem aos cultos ou mais inteligentes, que lhes estão acima.\n",
    "\n",
    "O terceiro grupo, psicologicamente parecido com o segundo, pois o caracterizam a mesma incapacidade de acção útil, é formado de grande parte da alta burguesia e de grande parte da burguesia média. São inertes, conservadores e desnacionalizados. São os do \"lá fora é outra coisa\", \"isto é um país único\", \"isto é pior que Marrocos\", frases que, em justiça se diga, ou não aparecem na boca dos outros grupos, ou só episodicamente e por imitação aparecem.\n",
    "\n",
    "Um quarto grupo, formado de elementos causais de todas as classes, grupo restrito e (...).\n",
    "\n",
    "\"\"\""
   ]
  },
  {
   "cell_type": "code",
   "execution_count": 33,
   "metadata": {},
   "outputs": [
    {
     "name": "stdout",
     "output_type": "stream",
     "text": [
      "['psicologicamente', 'psicologicamente', 'suficientemente', 'igualmente', 'psicologicamente', 'episodicamente']\n"
     ]
    }
   ],
   "source": [
    "lista = p.findall(texto)\n",
    "print(lista)"
   ]
  },
  {
   "cell_type": "code",
   "execution_count": 2,
   "metadata": {},
   "outputs": [
    {
     "name": "stdout",
     "output_type": "stream",
     "text": [
      "<re.Match object; span=(0, 2), match='12'>\n",
      "24\n",
      "12\n",
      "0\n",
      "2\n",
      "(0, 2)\n"
     ]
    }
   ],
   "source": [
    "import re\n",
    "\n",
    "p = re.compile(r'\\d+')\n",
    "print(p.match(\"12\"))\n",
    "digitos = p.match(\"12\").group()\n",
    "print(int(digitos)*2)\n",
    "print(p.match(\"12\").group())\n",
    "print(p.match(\"12\").start())\n",
    "print(p.match(\"12\").end())\n",
    "print(p.match(\"12\").span())"
   ]
  },
  {
   "cell_type": "code",
   "execution_count": 11,
   "metadata": {},
   "outputs": [
    {
     "name": "stdout",
     "output_type": "stream",
     "text": [
      "Encontrado:  ['123', '456', '999']\n"
     ]
    }
   ],
   "source": [
    "# Encontrar números no texto\n",
    "import re\n",
    "\n",
    "def recon(texto):\n",
    "    m = re.findall(r'\\d+', texto)\n",
    "    if m:\n",
    "        print(\"Encontrado: \", m)\n",
    "    else:\n",
    "        print(\"Não encontrado...\")\n",
    "\n",
    "recon(\"123 + 456 = 999\")"
   ]
  },
  {
   "cell_type": "code",
   "execution_count": 59,
   "metadata": {},
   "outputs": [
    {
     "name": "stdout",
     "output_type": "stream",
     "text": [
      "Encontrado:  123\n",
      "Encontrado:  456\n",
      "Encontrado:  999\n"
     ]
    }
   ],
   "source": [
    "import re\n",
    "\n",
    "def recon(texto):\n",
    "    m = re.finditer(r'\\d+', texto)\n",
    "    if m:\n",
    "        for obj in m:\n",
    "            print(\"Encontrado: \", obj.group())\n",
    "    else:\n",
    "        print(\"Não encontrado...\")\n",
    "\n",
    "recon(\"123 + 456 = 999\")"
   ]
  },
  {
   "cell_type": "code",
   "execution_count": null,
   "metadata": {},
   "outputs": [],
   "source": [
    "import sys\n",
    "\n",
    "for linha in sys.stdin:\n",
    "    print(linha)"
   ]
  }
 ],
 "metadata": {
  "interpreter": {
   "hash": "aee8b7b246df8f9039afb4144a1f6fd8d2ca17a180786b69acc140d282b71a49"
  },
  "kernelspec": {
   "display_name": "Python 3.9.4 64-bit",
   "language": "python",
   "name": "python3"
  },
  "language_info": {
   "codemirror_mode": {
    "name": "ipython",
    "version": 3
   },
   "file_extension": ".py",
   "mimetype": "text/x-python",
   "name": "python",
   "nbconvert_exporter": "python",
   "pygments_lexer": "ipython3",
   "version": "3.9.4"
  },
  "orig_nbformat": 4
 },
 "nbformat": 4,
 "nbformat_minor": 2
}
