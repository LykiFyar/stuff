{
  "cells": [
    {
      "cell_type": "code",
      "execution_count": 1,
      "metadata": {
        "colab": {
          "base_uri": "https://localhost:8080/"
        },
        "id": "ORObLn3pQvMu",
        "outputId": "9871ec35-58b8-432b-a8ea-8bebe3a87ac7"
      },
      "outputs": [
        {
          "name": "stdout",
          "output_type": "stream",
          "text": [
            "Collecting z3-solver\n",
            "  Downloading z3_solver-4.12.2.0-py2.py3-none-manylinux2014_x86_64.whl (55.7 MB)\n",
            "\u001b[2K     \u001b[90m━━━━━━━━━━━━━━━━━━━━━━━━━━━━━━━━━━━━━━━━\u001b[0m \u001b[32m55.7/55.7 MB\u001b[0m \u001b[31m11.2 MB/s\u001b[0m eta \u001b[36m0:00:00\u001b[0m\n",
            "\u001b[?25hInstalling collected packages: z3-solver\n",
            "Successfully installed z3-solver-4.12.2.0\n"
          ]
        }
      ],
      "source": [
        "!pip install z3-solver"
      ]
    },
    {
      "cell_type": "markdown",
      "metadata": {
        "id": "7Z8m6Ro68eVV"
      },
      "source": [
        "# Codificação lógica de um programa\n",
        "Considere o seguinte programa C sobre inteiros.\n",
        "\n",
        "```\n",
        "z = 0;\n",
        "x = x + y;\n",
        "if (y >= 0) {\n",
        "  y = x - y;\n",
        "  x = x - y;\n",
        "}\n",
        "else {\n",
        "  z = x - y;\n",
        "  x = y;\n",
        "  y = 0;\n",
        "}\n",
        "z = x + y + z;\n",
        "```\n",
        "Faça a codificação lógica deste programa.\n"
      ]
    },
    {
      "cell_type": "markdown",
      "metadata": {
        "id": "DNNuJaPq-_AC"
      },
      "source": [
        "Conversão para SA:\n",
        "\n",
        "```\n",
        "z1 = 0;\n",
        "x1 = x0  y0;\n",
        "if (y0 >= 0) {\n",
        "  y1 = x1 - y0;\n",
        "  x2 = x1 - y1;\n",
        "}\n",
        "else {\n",
        "  z2 = x1 - y0;\n",
        "  x3 = y0;\n",
        "  y2 = 0;\n",
        "}\n",
        "x4 = (y0 >= 0) ? x2 : x3;\n",
        "y3 = (y0 >= 0) ? y1 : y2;\n",
        "z3 = (y0 >= 0) ? z1 : z2;\n",
        "z4 = x4 + y3 + z3;\n",
        "\n",
        "```"
      ]
    },
    {
      "cell_type": "markdown",
      "metadata": {
        "id": "zA3bg5GPTzFN"
      },
      "source": [
        "Conversão para CNF:\n",
        "\n",
        "```\n",
        "z1 = 0;\n",
        "x1 = x0 + y0;\n",
        "if (y0 >= 0) y1 = x1 - y0;\n",
        "if (y0 >= 0) x2 = x1 - y1;\n",
        "\n",
        "if !(y0 >= 0) z2 = x1 - y0;\n",
        "if !(y0 >= 0) x3 = y0;\n",
        "if !(y0 >= 0) y2 = 0;\n",
        "\n",
        "x4 = (y0 >= 0) ? x2 : x3;\n",
        "y3 = (y0 >= 0) ? y1 : y2;\n",
        "z3 = (y0 >= 0) ? z1 : z2;\n",
        "z4 = x4 + y3 + z3;\n",
        "\n",
        "```"
      ]
    },
    {
      "cell_type": "markdown",
      "metadata": {
        "id": "K__p81HYVCVm"
      },
      "source": [
        "Codificação lógica do programa em Z3:"
      ]
    },
    {
      "cell_type": "code",
      "execution_count": null,
      "metadata": {
        "id": "8BrW0UFYQjaL"
      },
      "outputs": [],
      "source": [
        "from z3 import *\n",
        "\n",
        "\n",
        "x0, x1, x2, x3, x4 = Ints('x0 x1 x2 x3 x4')\n",
        "y0, y1, y2, y3 = Ints('y0 y1 y2 y3 y4')\n",
        "z1, z2, z3, z4 = Ints('z1 z2 z3 z4')\n",
        "\n",
        "s = Solver()\n",
        "\n",
        "s.add(z1 == 0)\n",
        "s.add(x1 == x0 + y0)\n",
        "\n",
        "s.add(Implies(y0 >= 0, y1 == x1 - y0))\n",
        "s.add(Implies(y0 >= 0, x2 == x1 - y1))\n",
        "\n",
        "s.add(Implies(Not(y0 >= 0), z2 == x1 - y0))\n",
        "s.add(Implies(Not(y0 >= 0), x3 == y0))\n",
        "s.add(Implies(Not(y0 >= 0), y2 == 0))\n",
        "\n",
        "s.add(x4 == If(y0 >= 0,x2,x3))\n",
        "s.add(y3 == If(y0 >= 0,y1,y2))\n",
        "s.add(z3 == If(y0 >= 0,z1,z2))\n",
        "\n",
        "s.add(z4 == x4 + y3 + z3)\n",
        "\n",
        "if s.check() == sat :\n",
        "    print(\"Ok.\")\n",
        "else:\n",
        "    print(\"A codificação não deve estar bem.\")"
      ]
    },
    {
      "cell_type": "markdown",
      "metadata": {
        "id": "lAjmUo9s-pWt"
      },
      "source": [
        "Tendo por base a codificação lógica que fez do programa, utilize o API do Z3 para Python para se pronunciar quanto à veracidade das seguintes afirmações. Justifique a sua resposta. No caso da afirmação ser falsa, apresente o contra-exemplo indicado pelo solver.\n",
        "\n",
        "   1. *Se o valor inicial de $y$ for positivo, o programa faz a troca dos valores de $x$ e $y$ entre si.*\n",
        "\n",
        "   2. *O valor final de $y$ nunca é negativo.*\n",
        "   \n",
        "   3. *O valor final de $z$ corresponde à soma dos valores de entrada de $x$ e $y$.*\n",
        "\n",
        "   4. *O valor final de x é sempre negativo.*"
      ]
    },
    {
      "cell_type": "code",
      "execution_count": null,
      "metadata": {
        "id": "8684RNWJ8Wix"
      },
      "outputs": [],
      "source": [
        "s.push()\n",
        "\n",
        "prop = \"\\n\\\"Se o valor inicial de y for positivo, o programa faz a troca \\\n",
        "dos valores de x e y entre si.\\\"\"\n",
        "\n",
        "form = Implies(y0>0, And(x4==y0,y3==x0))\n",
        "s.add(Not(form))\n",
        "\n",
        "if s.check() == sat :\n",
        "    print(\"A afirmação: \", prop)\n",
        "    print(\"é falsa.\")\n",
        "    m = s.model()\n",
        "    print(\"Por exemplo:\")\n",
        "    for d in m.decls():\n",
        "        print(\"%s = %d\" % (d.name(), m[d].as_long()))\n",
        "else:\n",
        "    print(\"A afirmaçã: \", prop)\n",
        "    print(\"é verdadeira.\")\n",
        "\n",
        "\n",
        "s.pop()"
      ]
    },
    {
      "cell_type": "code",
      "execution_count": null,
      "metadata": {
        "id": "wR-0tzTdYZwH"
      },
      "outputs": [],
      "source": [
        "s.push()\n",
        "\n",
        "prop = \"\\n\\\"O valor final de y nunca é negativo.\\\"\"\n",
        "\n",
        "form = y3 >= 0\n",
        "s.add(Not(form))\n",
        "\n",
        "if s.check() == sat :\n",
        "    print(\"A afirmação: \", prop)\n",
        "    print(\"é falsa.\")\n",
        "    m = s.model()\n",
        "    print(\"Por exemplo, com o seguinte valor inicial para as variáveis:\")\n",
        "    print(\"x=%d, y=%d\" % (m[x0].as_long(),m[y0].as_long()))\n",
        "    print(\"O valor final de y será %d.\" % m[y3].as_long())\n",
        "else:\n",
        "    print(\"A afirmaçã: \", prop)\n",
        "    print(\"é verdadeira.\")\n",
        "\n",
        "s.pop()"
      ]
    },
    {
      "cell_type": "code",
      "execution_count": null,
      "metadata": {
        "id": "0XfcGtC8YaYb"
      },
      "outputs": [],
      "source": [
        "s.push()\n",
        "\n",
        "prop = \"\\n\\\"O valor final de z corresponde à soma dos valores de entrada de x e y.\\\"\"\n",
        "\n",
        "form = z4 == x0 + y0\n",
        "s.add(Not(form))\n",
        "\n",
        "if s.check() == sat :\n",
        "    print(\"A afirmação: \", prop)\n",
        "    print(\"é falsa.\")\n",
        "    m = s.model()\n",
        "    print(\"Por exemplo\")\n",
        "    for d in m.decls():\n",
        "        print(\"%s= %d\" % (d.name(), m(d).as_long()))\n",
        "else:\n",
        "    print(\"A afirmaçã: \", prop)\n",
        "    print(\"é verdadeira.\")\n",
        "\n",
        "s.pop()"
      ]
    },
    {
      "cell_type": "code",
      "execution_count": null,
      "metadata": {
        "id": "ZzfAoRWteN6_"
      },
      "outputs": [],
      "source": [
        "s.push()\n",
        "\n",
        "prop = \"\\n\\\"O valor final de x é sempre negativo.\\\"\"\n",
        "\n",
        "\n",
        "form = x4 < 0\n",
        "s.add(Not(form))\n",
        "\n",
        "if s.check() == sat :\n",
        "    print(\"A afirmação: \", prop)\n",
        "    print(\"é falsa.\")\n",
        "    m = s.model()\n",
        "    print(\"Por exemplo, com o seguinte valor inicial para as variáveis:\")\n",
        "    print(\"x=%d, y=%d\" % (m[x0].as_long(),m[y0].as_long()))\n",
        "    print(\"O valor final de x será %d.\" % m[x4].as_long())\n",
        "else:\n",
        "    print(\"A afirmaçã: \", prop)\n",
        "    print(\"é verdadeira.\")\n",
        "\n",
        "s.pop()"
      ]
    }
  ],
  "metadata": {
    "colab": {
      "provenance": []
    },
    "kernelspec": {
      "display_name": "Python 3",
      "name": "python3"
    },
    "language_info": {
      "name": "python"
    }
  },
  "nbformat": 4,
  "nbformat_minor": 0
}
