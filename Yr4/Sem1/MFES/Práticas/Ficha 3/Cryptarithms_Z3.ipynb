{
  "cells": [
    {
      "cell_type": "markdown",
      "metadata": {
        "id": "AJCJN2XV4A78"
      },
      "source": [
        "# Cryptarithms\n",
        "\n",
        "O Cryptarithms é um jogo que consiste numa equação matemática entre números desconhecidos, cujos dígitos são representados por letras. Cada letra deve representar um dígito diferente e o dígito inicial de um número com vários dígitos não deve ser zero.\n",
        "\n",
        "Queremos saber os dígitos a que correspondem as letras envolvidas na seguinte equação:\n",
        "```\n",
        "SEND + MORE = MONEY\n",
        "```\n",
        "Podemos modelar o problema numa teoria de inteiros. Cada letra dá origem a uma variável inteira ($S$,$E$,$N$,$D$,$M$,$O$,$R$ e $Y$) e para representar a equação acima representamos cada parcela por uma expressão aritmética onde cada letra é multiplicada pelo seu “peso específico” em base 10.\n",
        "\n",
        "Resolva o problema usando o Z3."
      ]
    },
    {
      "cell_type": "code",
      "execution_count": 7,
      "metadata": {
        "colab": {
          "base_uri": "https://localhost:8080/"
        },
        "id": "z7fYAg3m6DmP",
        "outputId": "72fdfc94-f9c1-4ef9-98d1-28a097f0b331"
      },
      "outputs": [
        {
          "name": "stdout",
          "output_type": "stream",
          "text": [
            "Requirement already satisfied: z3-solver in c:\\users\\admin\\appdata\\local\\packages\\pythonsoftwarefoundation.python.3.10_qbz5n2kfra8p0\\localcache\\local-packages\\python310\\site-packages (4.12.2.0)\n"
          ]
        },
        {
          "name": "stderr",
          "output_type": "stream",
          "text": [
            "\n",
            "[notice] A new release of pip is available: 23.0.1 -> 23.2.1\n",
            "[notice] To update, run: C:\\Users\\Admin\\AppData\\Local\\Microsoft\\WindowsApps\\PythonSoftwareFoundation.Python.3.10_qbz5n2kfra8p0\\python.exe -m pip install --upgrade pip\n"
          ]
        }
      ],
      "source": [
        "!pip install z3-solver"
      ]
    },
    {
      "cell_type": "code",
      "execution_count": 8,
      "metadata": {
        "colab": {
          "base_uri": "https://localhost:8080/"
        },
        "id": "8mMmr6-f3lXc",
        "outputId": "b9f22828-1d3a-4fd6-e5b9-a85506e2e14b"
      },
      "outputs": [
        {
          "name": "stdout",
          "output_type": "stream",
          "text": [
            "N = 6\n",
            "M = 1\n",
            "E = 5\n",
            "Y = 2\n",
            "S = 9\n",
            "R = 8\n",
            "O = 0\n",
            "D = 7\n"
          ]
        }
      ],
      "source": [
        "from z3 import *\n",
        "\n",
        "S, E, N, D, M, O, R, Y = Ints('S E N D M O R Y')\n",
        "\n",
        "s = Solver()\n",
        "\n",
        "s.add(And(0<=S, S<=9))\n",
        "s.add(And(0<=M, M<=9))\n",
        "s.add(And(0<=E, E<=9))\n",
        "s.add(And(0<=N, N<=9))\n",
        "s.add(And(0<=D, D<=9))\n",
        "s.add(And(0<=O, O<=9))\n",
        "s.add(And(0<=R, R<=9))\n",
        "s.add(And(0<=Y, Y<=9))\n",
        "\n",
        "s.add(Distinct(S,E,N,D,M,O,R,Y))\n",
        "\n",
        "s.add(Not(S==0))\n",
        "s.add(M!=0)\n",
        "\n",
        "s.add((1000*S + 100*E + 10*N + D) + (1000*M + 100*O + 10*R + E) == (M*10000 + O*1000 + N*100 + E*10 + Y))\n",
        "\n",
        "\n",
        "\n",
        "if s.check() == sat :\n",
        "    m = s.model()\n",
        "    #print(m, m.decls())\n",
        "    # print(m)\n",
        "    #for d in m.decls():\n",
        "    #    print(\"%s = %d\" % (d.name(), m[d].as_long()))\n",
        "    for d in m:\n",
        "      print(\"%s = %d\" % (d, m[d].as_long()))\n",
        "else:\n",
        "    print(\"Não tem solução.\")"
      ]
    },
    {
      "cell_type": "markdown",
      "metadata": {
        "id": "y9MXAXCWFjzV"
      },
      "source": [
        "Mostrar todas as soluções possíveis. Quantas são?"
      ]
    },
    {
      "cell_type": "code",
      "execution_count": 9,
      "metadata": {
        "colab": {
          "base_uri": "https://localhost:8080/"
        },
        "id": "yUiCBMwSEbiY",
        "outputId": "2bc0789d-e386-4677-e3b5-a975064fbcb6"
      },
      "outputs": [
        {
          "name": "stdout",
          "output_type": "stream",
          "text": [
            "[D = 7, S = 9, O = 0, M = 1, E = 5, Y = 2, R = 8, N = 6]\n",
            "\n",
            "Número de soluções:  1\n"
          ]
        }
      ],
      "source": [
        "s.push()\n",
        "\n",
        "i = 0\n",
        "\n",
        "vars = [S,E,N,D,M,O,R,Y]\n",
        "\n",
        "while s.check() == sat:\n",
        "  i += 1\n",
        "  m = s.model()\n",
        "  print(m)\n",
        "  s.add(Or([x != m[x] for x in vars])) # paara excluir as mesmas atribs\n",
        "  print()\n",
        "print(\"Número de soluções: \", i)\n",
        "\n",
        "s.pop()"
      ]
    }
  ],
  "metadata": {
    "colab": {
      "provenance": []
    },
    "kernelspec": {
      "display_name": "Python 3",
      "name": "python3"
    },
    "language_info": {
      "codemirror_mode": {
        "name": "ipython",
        "version": 3
      },
      "file_extension": ".py",
      "mimetype": "text/x-python",
      "name": "python",
      "nbconvert_exporter": "python",
      "pygments_lexer": "ipython3",
      "version": "3.10.11"
    }
  },
  "nbformat": 4,
  "nbformat_minor": 0
}
