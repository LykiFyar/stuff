{
  "cells": [
    {
      "cell_type": "markdown",
      "metadata": {
        "id": "MZhF8AoqzrkI"
      },
      "source": [
        "  # Configuração de computadores\n",
        "  \n",
        "  Uma loja de electrónica permite aos seus clientes personalizar o seu computador, escolhendo entre dois modelos de CPU, dois modelos de placa gráfica, dois modelos de memória RAM, dois modelos de *motherboards* e dois modelos de monitor. Cada computador tem que ter obrigatorimente uma única *motherboard*, um único CPU, uma única placa gráfica e uma única memória RAM. O computador poderá ter ou não ter monitor.\n",
        "  \n",
        "  A personalização do computador deverá obedecer às seguintas regras:\n",
        "  \n",
        "  1. A *motherboard* MB1 quando combinada com a placa gráfica PG1, obriga à utilização da RAM1.\n",
        "  \n",
        "  2. A placa grágica PG1 precisa do CPU1, excepto quando combinada com uma memória RAM2.\n",
        "  \n",
        "  3. O CPU2 só pode ser instalado na *motherboard* MB2.\n",
        "  \n",
        "  4. O monitor MON1 para poder funcionar precisa da placa gráfica PG1 e da memória RAM2.\n",
        "\n",
        "\n",
        "\n",
        "Codifique o problema num SAT solver e comprove que o conjunto de regras é consistente.  \n"
      ]
    },
    {
      "cell_type": "markdown",
      "metadata": {
        "id": "II7Nr5We1yao"
      },
      "source": [
        "Começe por instalar o SAT solver (neste caso o Z3)"
      ]
    },
    {
      "cell_type": "code",
      "execution_count": null,
      "metadata": {
        "colab": {
          "base_uri": "https://localhost:8080/"
        },
        "id": "M6cNifOIzc8V",
        "outputId": "4b2cc677-f815-45b0-efff-82b1d2a11422"
      },
      "outputs": [
        {
          "name": "stdout",
          "output_type": "stream",
          "text": [
            "Collecting z3-solver\n",
            "  Downloading z3_solver-4.12.2.0-py2.py3-none-manylinux2014_x86_64.whl (55.7 MB)\n",
            "\u001b[2K     \u001b[90m━━━━━━━━━━━━━━━━━━━━━━━━━━━━━━━━━━━━━━━━\u001b[0m \u001b[32m55.7/55.7 MB\u001b[0m \u001b[31m11.3 MB/s\u001b[0m eta \u001b[36m0:00:00\u001b[0m\n",
            "\u001b[?25hInstalling collected packages: z3-solver\n",
            "Successfully installed z3-solver-4.12.2.0\n"
          ]
        }
      ],
      "source": [
        "!pip install z3-solver"
      ]
    },
    {
      "cell_type": "markdown",
      "metadata": {
        "id": "5r90dv6W9hHE"
      },
      "source": [
        "Para resolver o problema em Lógica Proposicional temos que\n",
        "\n",
        "1. Declarar as variáveis Boolenas necessárias à modelação do problema.\n",
        "\n",
        "2. De seguida, teremos que modelar cada uma das restrições, acrescentando as fórmulas lógicas correspondentes.\n",
        "\n",
        "3. Finalmente testamos se o conjunto de restrições é satisfazível."
      ]
    },
    {
      "cell_type": "code",
      "execution_count": 5,
      "metadata": {
        "colab": {
          "base_uri": "https://localhost:8080/"
        },
        "id": "Dz_3C4q02Sfz",
        "outputId": "860528b2-2e5c-4521-d09b-2fbc9871565b"
      },
      "outputs": [
        {
          "name": "stdout",
          "output_type": "stream",
          "text": [
            "O conjunto de regras é consistente.\n"
          ]
        }
      ],
      "source": [
        "from z3 import *\n",
        "\n",
        "CPU1, CPU2 = Bools(\"CPU1 CPU2\")\n",
        "PG1, PG2 = Bools(\"PG1 PG2\")\n",
        "RAM1, RAM2 = Bools(\"RAM1 RAM2\")\n",
        "MB1, MB2 = Bools(\"MB1 MB2\")\n",
        "MON1, MON2 = Bools(\"MON1 MON2\")\n",
        "\n",
        "s = Solver()\n",
        "\n",
        "# Um e um só CPU, PG, RAM e MB\n",
        "s.add(Or(CPU1,CPU2))\n",
        "s.add(Implies(CPU1,Not(CPU2)))\n",
        "\n",
        "s.add(Or(PG1,PG2))\n",
        "s.add(Implies(PG1,Not(PG2)))\n",
        "\n",
        "s.add(Or(RAM1,RAM2))\n",
        "s.add(Implies(RAM1,Not(RAM2)))\n",
        "\n",
        "s.add(Or(MB1,MB2))\n",
        "s.add(Implies(MB1,Not(MB2)))\n",
        "\n",
        "\n",
        "# A motherboard MB1 quando combinada com a placa gráfica PG1, obriga à utilização da RAM1.\n",
        "s.add(Implies(And(MB1,PG1),RAM1))\n",
        "\n",
        "# A placa grágica PG1 precisa do CPU1, excepto quando combinada com uma memória RAM2.\n",
        "s.add(Implies(And(PG1,Not(RAM2)),CPU1))\n",
        "\n",
        "# O CPU2 só pode ser instalado na motherboard MB2.\n",
        "s.add(Implies(CPU2,MB2))\n",
        "\n",
        "# O monitor MON1 para poder funcionar precisa da placa gráfica PG1 e da memória RAM2.\n",
        "s.add(And(Implies(MON1,PG1),RAM2))\n",
        "\n",
        "\n",
        "s.push()\n",
        "\n",
        "if s.check() == sat:\n",
        "   print(\"O conjunto de regras é consistente.\")\n",
        "else:\n",
        "  print(\"O conjunto de regras é inconsistente.\")"
      ]
    },
    {
      "cell_type": "markdown",
      "metadata": {
        "id": "yNgJQRmuzqdF"
      },
      "source": [
        "A afirmação:\n",
        "\n",
        "> O monitor MON1 só poderá ser usado com uma *motherboard* MB1.\n",
        "\n",
        "é verdadeira?\n"
      ]
    },
    {
      "cell_type": "code",
      "execution_count": 6,
      "metadata": {
        "colab": {
          "base_uri": "https://localhost:8080/"
        },
        "id": "L3zFymoD2UDh",
        "outputId": "4bd223ff-6b0e-40d1-cafe-53fa273513ce"
      },
      "outputs": [
        {
          "name": "stdout",
          "output_type": "stream",
          "text": [
            "O monitor MON1 só poderá ser usado com uma motherboard MB1 ?\n",
            "A afirmação é falsa.\n"
          ]
        }
      ],
      "source": [
        "s.push()\n",
        "\n",
        "# O monitor MON1 só poderá ser usado com uma motherboard MB1 ?\n",
        "s.add(Not(Implies(MON1,MB1)))\n",
        "\n",
        "print(\"O monitor MON1 só poderá ser usado com uma motherboard MB1 ?\")\n",
        "if s.check() == sat:\n",
        "  print(\"A afirmação é falsa.\")\n",
        "else:\n",
        "  print(\"A afirmação é verdadeira.\")\n",
        "\n",
        "s.pop()"
      ]
    },
    {
      "cell_type": "markdown",
      "metadata": {
        "id": "6ARtVIrIFsmO"
      },
      "source": [
        "Um cliente pode personalizar o seu computador da seguinte forma: uma motherboard MB2, o CPU1, a placa gráfica PG2 e a memória RAM1 ?"
      ]
    },
    {
      "cell_type": "code",
      "execution_count": 10,
      "metadata": {
        "colab": {
          "base_uri": "https://localhost:8080/"
        },
        "id": "GxAVckSYFtZV",
        "outputId": "d0c085a7-9231-4262-fe54-5b4b89e7355c"
      },
      "outputs": [
        {
          "name": "stdout",
          "output_type": "stream",
          "text": [
            "Um cliente pode personalizar o seu computador da seguinte forma: \n",
            "uma motherboard MB2, o CPU1, a placa gráfica PG2 e a memória RAM1 ?\n",
            "Não.\n"
          ]
        }
      ],
      "source": [
        "s.push()\n",
        "\n",
        "# Um cliente pode personalizar o seu computador da seguinte forma: \n",
        "# uma motherboard MB2, o CPU1, a placa gráfica PG2 e a memória RAM1 ?\n",
        "s.add(And(MB2,CPU1,PG2,RAM1))\n",
        "\n",
        "print(\"Um cliente pode personalizar o seu computador da seguinte forma: \")\n",
        "print(\"uma motherboard MB2, o CPU1, a placa gráfica PG2 e a memória RAM1 ?\")\n",
        "\n",
        "if s.check() == sat:\n",
        "  print(\"Sim, pode.\")\n",
        "else:\n",
        "  print(\"Não.\")\n",
        "\n",
        "s.pop()"
      ]
    }
  ],
  "metadata": {
    "colab": {
      "provenance": []
    },
    "kernelspec": {
      "display_name": "Python 3",
      "name": "python3"
    },
    "language_info": {
      "codemirror_mode": {
        "name": "ipython",
        "version": 3
      },
      "file_extension": ".py",
      "mimetype": "text/x-python",
      "name": "python",
      "nbconvert_exporter": "python",
      "pygments_lexer": "ipython3",
      "version": "3.10.11"
    }
  },
  "nbformat": 4,
  "nbformat_minor": 0
}
