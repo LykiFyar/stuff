{
  "nbformat": 4,
  "nbformat_minor": 0,
  "metadata": {
    "colab": {
      "provenance": []
    },
    "kernelspec": {
      "name": "python3",
      "display_name": "Python 3"
    },
    "language_info": {
      "name": "python"
    }
  },
  "cells": [
    {
      "cell_type": "markdown",
      "source": [
        "# Alocação de aulas\n",
        "\n",
        " Num curso de formação temos 5 aulas consecutivas e temos 3 formadores (a Ana, a Beatriz e o Carlos) capazes de dar qualquer aula. Queremos alocar os formadores à diversas aulas, obedecendo às seguintes restrições:\n",
        "\n",
        "1. O Carlos não pode dar a primeira aula.\n",
        "2. Se a Beatriz der a primeira aula, não poderá dar a última.\n",
        "3. Cada aula tem pelo menos um formador.\n",
        "4. As quatro primeiras aulas têm no máximo um formador.\n",
        "5. A última aula pode ter no máximo dois formadores.\n",
        "6. Nenhum formador pode dar 4 aulas consecutivas.\n",
        "\n",
        "Pretende-se que escreva um programa Python que, usando o Z3 como SAT solver, faça a distribuição das formadores pelas aulas.\n",
        "\n",
        "Começe por instalar o Z3."
      ],
      "metadata": {
        "id": "bJdEEVbsId0o"
      }
    },
    {
      "cell_type": "code",
      "source": [
        "!pip install z3-solver"
      ],
      "metadata": {
        "id": "JPWA737MIevm"
      },
      "execution_count": null,
      "outputs": []
    },
    {
      "cell_type": "markdown",
      "source": [
        "Para resolver o problema em Lógica Proposicional temos que\n",
        "\n",
        "1. Declarar um conjunto de variáveis Boolenas\n",
        "$x_{f,a}$ com a seguinte semântica:\n",
        "\n",
        "  > $x_{f,a}$ é verdade  *sse*   o formaldor $f$  dá a aula $a$\n",
        "\n",
        "2. De seguida, teremos que modelar cada uma das restrições, acrescentando as fórmulas lógicas correspondentes.\n",
        "\n",
        "3. Finalmente testamos se o conjunto de restrições é satisfazível e extraimos a solução calculada.  \n"
      ],
      "metadata": {
        "id": "66LsDl-GIdPk"
      }
    },
    {
      "cell_type": "code",
      "source": [],
      "metadata": {
        "id": "a-zvT8xnJrZ7"
      },
      "execution_count": null,
      "outputs": []
    },
    {
      "cell_type": "markdown",
      "source": [
        "Será que há várias alternativas para distribuir os formadores pelas aulas seguindo estas regras?\n",
        "Faça as alterações necessárias ao programa de modo a saber todas as distribuições possíveis."
      ],
      "metadata": {
        "id": "19EFp4c8Oa2x"
      }
    },
    {
      "cell_type": "code",
      "execution_count": null,
      "metadata": {
        "id": "0dWv6BLoIbkh"
      },
      "outputs": [],
      "source": []
    }
  ]
}