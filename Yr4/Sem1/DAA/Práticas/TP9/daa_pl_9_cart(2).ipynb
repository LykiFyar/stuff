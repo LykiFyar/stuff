{
 "cells": [
  {
   "cell_type": "markdown",
   "id": "09707bc8",
   "metadata": {},
   "source": [
    "### Setting up the OpenAI Gym's environment"
   ]
  },
  {
   "cell_type": "code",
   "execution_count": null,
   "id": "c1ad5282",
   "metadata": {
    "tags": []
   },
   "outputs": [],
   "source": [
    "#!pip install gymnasium\n",
    "#!pip install pyglet\n",
    "#!pip install pygame"
   ]
  },
  {
   "cell_type": "markdown",
   "id": "07e7183c",
   "metadata": {},
   "source": [
    "## [**Cart Pole**](https://www.gymlibrary.dev/environments/classic_control/cart_pole/)\n",
    "\n",
    "![CartPole-v1](https://miro.medium.com/max/1188/1*LVoKXR7aX7Y8npUSsYZdKg.png \"CartPole-v1\")\n",
    "\n",
    "| | |\n",
    "| :-: | :-: |\n",
    "| Action Space | Discrete(2) |\n",
    "| Observation Shape | (4,) |\n",
    "| Observation High | \\[4.8 inf 0.42 inf\\] |\n",
    "| Observation Low | \\[-4.8 -inf -0.42 -inf\\] |\n",
    "| Import |`gym.make(\"CartPole-v1\")` |\n",
    "\n",
    "**Description**\n",
    "This environment corresponds to the version of the cart-pole problem described by Barto, Sutton, and Anderson in [“Neuronlike Adaptive Elements That Can Solve Difficult Learning Control Problem”](https://ieeexplore.ieee.org/document/6313077). A pole is attached by an un-actuated joint to a cart, which moves along a frictionless track. The pendulum is placed upright on the cart and the goal is to balance the pole by applying forces in the left and right direction on the cart.\n",
    "\n",
    "**Action Space**\n",
    "\n",
    "The action is a `ndarray` with shape `(1,)` which can take values `{0, 1}` indicating the direction of the fixed force the cart is pushed with.\n",
    "\n",
    "| Num | Action |\n",
    "| :-: | :-: |\n",
    "| 0 | Push cart to the left |\n",
    "| 1 | Push cart to the right |\n",
    "    \n",
    "**Note**: The velocity that is reduced or increased by the applied force is not fixed and it depends on the angle the pole is pointing. The center of gravity of the pole varies the amount of energy needed to move the cart underneath it\n",
    "\n",
    "**Observations Space**\n",
    "\n",
    "The observation is a `ndarray` with shape `(4,)` with the values corresponding to the following positions and velocities:\n",
    "\n",
    "| Num | Observation | Min | Max |\n",
    "| :-: | :-: | :-: | :-: |\n",
    "| 0 | Cart Position | -4.8 | 4.8 |\n",
    "| 1 | Cart Velocity | -Inf | Inf |\n",
    "| 2 | Pole Angle | ~-0.418 rad (-24º) | ~0.418 rad (24º) |\n",
    "| 3 | Pole Angular Velocity | -Inf | Inf |\n",
    "    \n",
    "**Note**: While the ranges above denote the possible values for observation space of each element, it is not reflective of the allowed values of the state space in an unterminated episode. Particularly:\n",
    "\n",
    "- The cart x-position (index 0) can be take values between `(-4.8, 4.8)`, but the episode terminates if the cart leaves the `(-2.4, 2.4)` range.\n",
    "\n",
    "- The pole angle can be observed between `(-.418, .418)` radians (or **±24°**), but the episode terminates if the pole angle is not in the range `(-.2095, .2095`) (or **±12°**)\n",
    "\n",
    "**Rewards**\n",
    "    \n",
    "Since the goal is to keep the pole upright for as long as possible, a reward of `+1` for every step taken, including the termination step, is allotted. The threshold for rewards is 475 for v1.\n",
    "\n",
    "**Starting State**\n",
    "    \n",
    "All observations are assigned a uniformly random value in `(-0.05, 0.05)`\n",
    "\n",
    "**Episode End**\n",
    "    \n",
    "The episode ends if any one of the following occurs:\n",
    "\n",
    "1. Termination: Pole Angle is greater than ±12°\n",
    "\n",
    "2. Termination: Cart Position is greater than ±2.4 (center of the cart reaches the edge of the display)\n",
    "\n",
    "3. Truncation: Episode length is greater than 500 (200 for v0)"
   ]
  },
  {
   "cell_type": "code",
   "execution_count": null,
   "id": "6953db35-8883-4f94-a691-9bed338e3fe2",
   "metadata": {
    "tags": []
   },
   "outputs": [],
   "source": [
    "import gymnasium as gym\n"
   ]
  },
  {
   "cell_type": "code",
   "execution_count": null,
   "id": "148d7139-563f-4dd5-afb9-c6124d543354",
   "metadata": {},
   "outputs": [],
   "source": []
  },
  {
   "cell_type": "code",
   "execution_count": null,
   "id": "e0bb2bb4-b961-40dc-af19-2ca429d687fc",
   "metadata": {},
   "outputs": [],
   "source": []
  },
  {
   "cell_type": "markdown",
   "id": "5af99f7a",
   "metadata": {},
   "source": [
    "### Let’s develop a Q-learning and SARSA model to solve this problem"
   ]
  },
  {
   "cell_type": "code",
   "execution_count": null,
   "id": "4c40c3d3",
   "metadata": {
    "tags": []
   },
   "outputs": [],
   "source": [
    "import pygame\n",
    "import gymnasium as gym\n",
    "import numpy as np\n",
    "import math\n",
    "import matplotlib.pyplot as plt\n",
    "%matplotlib inline"
   ]
  },
  {
   "cell_type": "markdown",
   "id": "b4978e50",
   "metadata": {},
   "source": [
    "### Prepare OpenAI Gym Environment"
   ]
  },
  {
   "cell_type": "code",
   "execution_count": null,
   "id": "5a636d7e",
   "metadata": {
    "tags": []
   },
   "outputs": [],
   "source": [
    "def prepare_env():\n",
    "\n",
    "    return env"
   ]
  },
  {
   "cell_type": "code",
   "execution_count": null,
   "id": "7596b50c",
   "metadata": {
    "tags": []
   },
   "outputs": [],
   "source": [
    "prepare_env()"
   ]
  },
  {
   "cell_type": "markdown",
   "id": "d047574a",
   "metadata": {
    "tags": []
   },
   "source": [
    "### Prepare Reinforcement Learning Model Hyper-parameters"
   ]
  },
  {
   "cell_type": "code",
   "execution_count": null,
   "id": "7764348e",
   "metadata": {
    "tags": []
   },
   "outputs": [],
   "source": [
    "#Hyperparamters\n"
   ]
  },
  {
   "cell_type": "code",
   "execution_count": null,
   "id": "fcc2ce31",
   "metadata": {
    "tags": []
   },
   "outputs": [],
   "source": [
    "def discretised_state(state, theta_minmax, theta_dot_minmax, theta_state_size, theta_dot_state_size):\n",
    "\n",
    "    \n",
    "    return tuple(discrete_state.astype(np.int32))"
   ]
  },
  {
   "cell_type": "markdown",
   "id": "5b93146c",
   "metadata": {},
   "source": [
    "### Q-Learning"
   ]
  },
  {
   "cell_type": "code",
   "execution_count": null,
   "id": "98ff7fbe",
   "metadata": {
    "tags": []
   },
   "outputs": [],
   "source": [
    "def train_cart_pole_qlearning(EPISODES, DISCOUNT, EPISODE_DISPLAY, LEARNING_RATE, EPSILON):\n",
    "    \n",
    "    #Prepare OpenGym CartPole Environment\n",
    "\n",
    "    #Q-Table of size theta_state_size * theta_dot_state_size * env.action_space.n\n",
    "\n",
    "    #For stats\n",
    "    \n",
    "    for episode in range(EPISODES):\n",
    "        \n",
    "        if episode % EPISODE_DISPLAY == 0:\n",
    "           \n",
    "        else:\n",
    "            \n",
    "\n",
    "        while not terminated:\n",
    "            if np.random.random() > EPSILON:\n",
    "                \n",
    "            else:\n",
    "                \n",
    "\n",
    "\n",
    "            if render_state:\n",
    "                \n",
    "\n",
    "            if not terminated:\n",
    "                \n",
    "            i += 1\n",
    "            \n",
    "\n",
    "        \n",
    "\n",
    "        if not episode % EPISODE_DISPLAY:\n",
    "            \n",
    "            print(f\"Episode:{episode} avg:{avg_reward} min:{min(ep_rewards[-EPISODE_DISPLAY:])} max:{max(ep_rewards[-EPISODE_DISPLAY:])}\")\n",
    "\n",
    "    env.close()\n",
    "    \n",
    "    #Plot Model evolution performance\n",
    "    plt.plot(ep_rewards_table['ep'], ep_rewards_table['avg'], label = \"avg\")\n",
    "    plt.plot(ep_rewards_table['ep'], ep_rewards_table['min'], label = \"min\")\n",
    "    plt.plot(ep_rewards_table['ep'], ep_rewards_table['max'], label = \"max\")\n",
    "    plt.legend(loc = 4) #bottom right\n",
    "    plt.title('CartPole Q-Learning')\n",
    "    plt.ylabel('Average reward/Episode')\n",
    "    plt.xlabel('Episodes')\n",
    "    plt.show()\n",
    "    \n",
    "    return ep_rewards_table"
   ]
  },
  {
   "cell_type": "markdown",
   "id": "17e7a9f8",
   "metadata": {},
   "source": [
    "### SARSA"
   ]
  },
  {
   "cell_type": "code",
   "execution_count": null,
   "id": "eb7ddfcb",
   "metadata": {
    "tags": []
   },
   "outputs": [],
   "source": [
    "def train_cart_pole_sarsa(EPISODES, DISCOUNT, EPISODE_DISPLAY, LEARNING_RATE, EPSILON):\n",
    "    #Prepare OpenGym CartPole Environment\n",
    "    \n",
    "\n",
    "    #Q-Table of size theta_state_size * theta_dot_state_size * env.action_space.n\n",
    "    \n",
    "\n",
    "    #For stats\n",
    "    \n",
    "    \n",
    "    for episode in range(EPISODES):\n",
    "        \n",
    "\n",
    "        if episode % EPISODE_DISPLAY == 0:\n",
    "            \n",
    "        else:\n",
    "           \n",
    "        if np.random.random() > EPSILON:\n",
    "            \n",
    "        else:\n",
    "           \n",
    "\n",
    "        while not terminated:\n",
    "            \n",
    "\n",
    "            if np.random.random() > EPSILON:\n",
    "               \n",
    "            else:\n",
    "               \n",
    "\n",
    "            if render_state:\n",
    "               \n",
    "            if not terminated:\n",
    "                \n",
    "            curr_discrete_state = new_discrete_state\n",
    "            \n",
    "        ep_rewards.append(episode_reward)\n",
    "\n",
    "        if not episode % EPISODE_DISPLAY:\n",
    "            \n",
    "            print(f\"Episode:{episode} avg:{avg_reward} min:{min(ep_rewards[-EPISODE_DISPLAY:])} max:{max(ep_rewards[-EPISODE_DISPLAY:])}\")\n",
    "\n",
    "    env.close()\n",
    "\n",
    "    #Plot Model evolution performance\n",
    "    plt.plot(ep_rewards_table['ep'], ep_rewards_table['avg'], label = \"avg\")\n",
    "    plt.plot(ep_rewards_table['ep'], ep_rewards_table['min'], label = \"min\")\n",
    "    plt.plot(ep_rewards_table['ep'], ep_rewards_table['max'], label = \"max\")\n",
    "    plt.legend(loc = 4) #bottom right\n",
    "    plt.title('CartPole SARSA')\n",
    "    plt.ylabel('Average reward/Episode')\n",
    "    plt.xlabel('Episodes')\n",
    "    plt.show()\n",
    "    \n",
    "    return ep_rewards_table"
   ]
  },
  {
   "cell_type": "markdown",
   "id": "7fb431f0",
   "metadata": {},
   "source": [
    "### Results: Q-Learning vs SARSA"
   ]
  },
  {
   "cell_type": "code",
   "execution_count": null,
   "id": "b166ba45",
   "metadata": {
    "tags": []
   },
   "outputs": [],
   "source": [
    "#Q-learning\n",
    "ep_rewards_table_qlearning = train_cart_pole_qlearning"
   ]
  },
  {
   "cell_type": "code",
   "execution_count": null,
   "id": "51b60bd1",
   "metadata": {
    "tags": []
   },
   "outputs": [],
   "source": [
    "#SARSA\n",
    "ep_rewards_table_sarsa = train_cart_pole_sarsa"
   ]
  },
  {
   "cell_type": "code",
   "execution_count": null,
   "id": "a8341628",
   "metadata": {
    "tags": []
   },
   "outputs": [],
   "source": [
    "#Comparison\n",
    "plt.figure(figsize = (20, 10))\n",
    "plt.plot(ep_rewards_table_qlearning['ep'], ep_rewards_table_qlearning['avg'], label = \"qlearning_avg\")\n",
    "plt.plot(ep_rewards_table_sarsa['ep'], ep_rewards_table_sarsa['avg'], label = \"sarsa_avg\")\n",
    "plt.plot(ep_rewards_table_qlearning['ep'], ep_rewards_table_qlearning['min'], label = \"qlearning_min\")\n",
    "plt.plot(ep_rewards_table_sarsa['ep'], ep_rewards_table_sarsa['min'], label = \"sarsa_min\")\n",
    "plt.plot(ep_rewards_table_qlearning['ep'], ep_rewards_table_qlearning['max'], label = \"qlearning_max\")\n",
    "plt.plot(ep_rewards_table_sarsa['ep'], ep_rewards_table_sarsa['max'], label = \"sarsa_max\")\n"
   ]
  },
  {
   "cell_type": "code",
   "execution_count": null,
   "id": "e0b9062a",
   "metadata": {},
   "outputs": [],
   "source": []
  }
 ],
 "metadata": {
  "kernelspec": {
   "display_name": "Python 3 (ipykernel)",
   "language": "python",
   "name": "python3"
  },
  "language_info": {
   "codemirror_mode": {
    "name": "ipython",
    "version": 3
   },
   "file_extension": ".py",
   "mimetype": "text/x-python",
   "name": "python",
   "nbconvert_exporter": "python",
   "pygments_lexer": "ipython3",
   "version": "3.10.10"
  },
  "vscode": {
   "interpreter": {
    "hash": "8af2efdd1395cfda319ea8b192331da605ebd818a1332a77f240d477877bcd3f"
   }
  }
 },
 "nbformat": 4,
 "nbformat_minor": 5
}
