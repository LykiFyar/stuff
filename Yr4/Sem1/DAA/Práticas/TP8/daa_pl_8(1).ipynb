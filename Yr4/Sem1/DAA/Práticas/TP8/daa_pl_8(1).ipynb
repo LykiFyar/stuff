{
 "cells": [
  {
   "cell_type": "markdown",
   "id": "4bc95eae",
   "metadata": {
    "tags": []
   },
   "source": [
    "# Artificial Neural Networks: Example of use of a Multilayer Perceptron\n",
    "\n",
    "For this example, we will use the already known dataset about USA housing. This is the real estate problem, and our goal is to help the real estate agent predict housing prices for regions in the USA.\n",
    "\n",
    "We have used Linear Regression in this context; now, we are going to try Artificial Neural Networks. Let's try using Multilayer Perceptrons."
   ]
  },
  {
   "cell_type": "markdown",
   "id": "44694313-d202-47d5-b81a-32bf5a6a4c59",
   "metadata": {
    "tags": []
   },
   "source": [
    "### The data\n",
    "\n",
    "It will be used data frame with 5000 observations on the following 7 variables:\n",
    "\n",
    "* **Avg. Area Income** - Avg. Income of residents of the city house is located in.\n",
    "* **Avg. Area House Age** - Avg Age of Houses in same city\n",
    "* **Avg. Area Number of Rooms** - Avg Number of Rooms for Houses in same city\n",
    "* **Avg. Area Number of Bedrooms** - Avg Number of Bedrooms for Houses in same city\n",
    "* **Area Population** - Population of city house is located in\n",
    "* **Price** - Price that the house sold at\n",
    "* **Address** - Address for the house"
   ]
  },
  {
   "cell_type": "markdown",
   "id": "d7207f1b",
   "metadata": {
    "tags": []
   },
   "source": [
    "## Import libraries"
   ]
  },
  {
   "cell_type": "code",
   "execution_count": 1,
   "id": "458ed2fe",
   "metadata": {},
   "outputs": [],
   "source": [
    "import pandas as pd\n",
    "import numpy as np\n",
    "import matplotlib.pyplot as plt\n",
    "import seaborn as sns\n",
    "%matplotlib inline"
   ]
  },
  {
   "cell_type": "markdown",
   "id": "1499f776",
   "metadata": {
    "tags": []
   },
   "source": [
    "## Get the data"
   ]
  },
  {
   "cell_type": "markdown",
   "id": "b4da6438-8a65-4e28-96d5-f23b9a523a9e",
   "metadata": {},
   "source": [
    "Create the data frame"
   ]
  },
  {
   "cell_type": "code",
   "execution_count": null,
   "id": "71ab5533",
   "metadata": {},
   "outputs": [],
   "source": [
    "USAhousing = pd.read_csv('USA_Housing.csv')"
   ]
  },
  {
   "cell_type": "code",
   "execution_count": null,
   "id": "a4036b08-1a39-49c8-a0dc-1d37db654b71",
   "metadata": {
    "tags": []
   },
   "outputs": [],
   "source": [
    "USAhousing.info()"
   ]
  },
  {
   "cell_type": "markdown",
   "id": "05342851-ee48-4ce8-9f69-333b03c576dc",
   "metadata": {},
   "source": [
    "Since the feature <em>Address</em> is the one categoric and not needed for the purpose of the exercise, let's drop it:"
   ]
  },
  {
   "cell_type": "code",
   "execution_count": null,
   "id": "462d742f-78f5-4131-9679-9bfa806e13d3",
   "metadata": {},
   "outputs": [],
   "source": [
    "USAhousing.drop('Address', axis = 1, inplace=True)"
   ]
  },
  {
   "cell_type": "code",
   "execution_count": null,
   "id": "89930a53-80bd-4892-8905-63d5f82523da",
   "metadata": {},
   "outputs": [],
   "source": [
    "USAhousing.head()"
   ]
  },
  {
   "cell_type": "code",
   "execution_count": null,
   "id": "6a2a3d2f",
   "metadata": {},
   "outputs": [],
   "source": [
    "USAhousing.describe()"
   ]
  },
  {
   "cell_type": "markdown",
   "id": "1e96bf09-e0ac-4c7f-b288-6f137e6eab49",
   "metadata": {
    "tags": []
   },
   "source": [
    "## EDA"
   ]
  },
  {
   "cell_type": "markdown",
   "id": "9ccb17b8-55ac-4be6-bee5-f7c03ed3ac4d",
   "metadata": {},
   "source": [
    "Create the histogram of the target - column <em>Price</em>:"
   ]
  },
  {
   "cell_type": "code",
   "execution_count": null,
   "id": "a536b434",
   "metadata": {},
   "outputs": [],
   "source": [
    "sns.histplot(USAhousing['Price'])"
   ]
  },
  {
   "cell_type": "markdown",
   "id": "d6b55a2c-6741-4db7-bac0-15e4868b8458",
   "metadata": {},
   "source": [
    "Create a heatmap of the features:"
   ]
  },
  {
   "cell_type": "code",
   "execution_count": null,
   "id": "3d3b4801",
   "metadata": {},
   "outputs": [],
   "source": []
  },
  {
   "cell_type": "markdown",
   "id": "73f163ca-ec80-42e8-b40c-e398fc7f5ab6",
   "metadata": {},
   "source": [
    "Create a pairplot to visualize relations:"
   ]
  },
  {
   "cell_type": "code",
   "execution_count": null,
   "id": "5aa27090",
   "metadata": {},
   "outputs": [],
   "source": []
  },
  {
   "cell_type": "markdown",
   "id": "e846e2ac-c35e-4b9a-ae88-5a63483a5e58",
   "metadata": {
    "tags": []
   },
   "source": [
    "## Train Test Split"
   ]
  },
  {
   "cell_type": "markdown",
   "id": "5c234a11",
   "metadata": {
    "tags": []
   },
   "source": [
    "Define <em>X</em> and <em>Y</em>:"
   ]
  },
  {
   "cell_type": "code",
   "execution_count": null,
   "id": "6bd6539a",
   "metadata": {},
   "outputs": [],
   "source": [
    "X = USAhousing.drop('Price', axis=1)\n",
    "Y =  USAhousing[['Price']]"
   ]
  },
  {
   "cell_type": "markdown",
   "id": "a94652dd-8b5c-4805-8cd8-ec00bb2513a1",
   "metadata": {
    "tags": []
   },
   "source": [
    "Divide the subsets of test and training data:"
   ]
  },
  {
   "cell_type": "code",
   "execution_count": null,
   "id": "59f89e69-a6a0-4a29-b2e9-c53afa8ff4a6",
   "metadata": {
    "tags": []
   },
   "outputs": [],
   "source": [
    "from sklearn.model_selection import GridSearchCV, KFold, train_test_split"
   ]
  },
  {
   "cell_type": "code",
   "execution_count": null,
   "id": "54aa5bd8",
   "metadata": {},
   "outputs": [],
   "source": [
    "X_train, X_test, y_train, y_test = train_test_split(X, y, test_size=0.2, random_state=2021)"
   ]
  },
  {
   "cell_type": "markdown",
   "id": "38b8dcaf",
   "metadata": {
    "tags": []
   },
   "source": [
    "## Artificial Neural Network (under the form of a MLP)"
   ]
  },
  {
   "cell_type": "markdown",
   "id": "0e76b241-cb87-4af4-85fa-6967a4de350a",
   "metadata": {},
   "source": [
    "Install <em>tensorflow</em> if needed: <code>pip install tensorflow</code>"
   ]
  },
  {
   "cell_type": "markdown",
   "id": "b83848b7-0eb5-4c7f-860d-125d5a8faa33",
   "metadata": {
    "tags": []
   },
   "source": [
    "Install <em>keras</em> if needed: <code>pip install --upgrade keras</code>"
   ]
  },
  {
   "cell_type": "markdown",
   "id": "41ddc832-b48c-42f0-bc51-b42049332a99",
   "metadata": {},
   "source": [
    "Install <em>scikeras</em> if needed: <code>pip install scikeras[tensorflow]</code>"
   ]
  },
  {
   "cell_type": "markdown",
   "id": "fbf9bd91-2ae0-4f80-8e6f-ea99f069ec07",
   "metadata": {
    "tags": []
   },
   "source": [
    "### Import more libraries"
   ]
  },
  {
   "cell_type": "code",
   "execution_count": null,
   "id": "a10b7adc",
   "metadata": {},
   "outputs": [],
   "source": [
    "import tensorflow as tf\n",
    "from tensorflow import keras\n",
    "from tensorflow.keras.models import Sequential\n",
    "from tensorflow.keras.layers import Dense#, Dropout, BatchNormalization\n",
    "from scikeras.wrappers import KerasRegressor#, KerasClassifier"
   ]
  },
  {
   "cell_type": "code",
   "execution_count": null,
   "id": "75e54dec-9317-41f7-8aaa-7a88ea3881ca",
   "metadata": {
    "tags": []
   },
   "outputs": [],
   "source": [
    "print('TensorFlow version:', tf.__version__)"
   ]
  },
  {
   "cell_type": "markdown",
   "id": "98c9fc55",
   "metadata": {
    "tags": []
   },
   "source": [
    "### Structure the MLP"
   ]
  },
  {
   "cell_type": "markdown",
   "id": "24ef1f2c",
   "metadata": {},
   "source": [
    "Define a model with:\n",
    "- <em>ReLu</em> as activation function\n",
    "- sequential topology\n",
    "- three layers\n",
    "- <em>MAE</em> as loss function\n",
    "- <em>Adam</em> as optimizer\n",
    "- learning rate of <em>0.01</em>\n",
    "- <em>MAE</em> and <em>MSE</em> as metrics"
   ]
  },
  {
   "cell_type": "code",
   "execution_count": 15,
   "id": "f31c1a5b",
   "metadata": {},
   "outputs": [],
   "source": [
    "def build_model(activation='relu', learning_rate=0.01):\n",
    "    model = Sequential()\n",
    "    model.add(Dense(16, input_dim = 5, activation = activation))\n",
    "    model.add(Dense(8, activation = activation))\n",
    "    model.add(Dense(1, activation = activation)) # output\n",
    "    \n",
    "    #Compile the model\n",
    "    model.compile(\n",
    "        loss = 'mae',\n",
    "        optimizer = tf.optimizers.Adam(learning_rate),\n",
    "        metrics = ['mae', 'mse'])\n",
    "    return model"
   ]
  },
  {
   "cell_type": "markdown",
   "id": "f985284f",
   "metadata": {},
   "source": [
    "Build the model:"
   ]
  },
  {
   "cell_type": "code",
   "execution_count": 16,
   "id": "7d242f58",
   "metadata": {},
   "outputs": [
    {
     "name": "stdout",
     "output_type": "stream",
     "text": [
      "Model: \"sequential\"\n",
      "_________________________________________________________________\n",
      " Layer (type)                Output Shape              Param #   \n",
      "=================================================================\n",
      " dense (Dense)               (None, 16)                96        \n",
      "                                                                 \n",
      " dense_1 (Dense)             (None, 8)                 136       \n",
      "                                                                 \n",
      " dense_2 (Dense)             (None, 1)                 9         \n",
      "                                                                 \n",
      "=================================================================\n",
      "Total params: 241 (964.00 Byte)\n",
      "Trainable params: 241 (964.00 Byte)\n",
      "Non-trainable params: 0 (0.00 Byte)\n",
      "_________________________________________________________________\n"
     ]
    }
   ],
   "source": [
    "model = build_model()\n",
    "model.summary()"
   ]
  },
  {
   "cell_type": "markdown",
   "id": "ac6f04dc",
   "metadata": {},
   "source": [
    "We will use <em>GridSearchCV</em> to tune the model"
   ]
  },
  {
   "cell_type": "markdown",
   "id": "6e541174-5800-4e00-8ea2-aa59ca5ab2a9",
   "metadata": {
    "tags": []
   },
   "source": [
    "### GridSearchCV"
   ]
  },
  {
   "cell_type": "markdown",
   "id": "21ecf4d6-db54-4c7a-82c2-51da8d9b557b",
   "metadata": {},
   "source": [
    "Define the grid parameters using a dictionary:"
   ]
  },
  {
   "cell_type": "code",
   "execution_count": null,
   "id": "4cc58b88-40a6-4df9-9888-c5784bf2cca9",
   "metadata": {
    "tags": []
   },
   "outputs": [],
   "source": [
    "optimizer = ['SGD', 'RMSprop', 'Adagrad']\n",
    "param_grid = dict(optimizer = optimizer)"
   ]
  },
  {
   "cell_type": "markdown",
   "id": "4a8ef034",
   "metadata": {},
   "source": [
    "Define a <em>KFold</em> with <em>5 splits</em>, <em>shuffle</em> and a <em>random state</em>:"
   ]
  },
  {
   "cell_type": "code",
   "execution_count": null,
   "id": "e24f67b1-408d-4746-9e55-f333e53ef3bf",
   "metadata": {},
   "outputs": [],
   "source": [
    "kf = KFold(n_splits=5, shuffle=True, random_state=2023)"
   ]
  },
  {
   "cell_type": "markdown",
   "id": "a64fddce-3d10-4b84-8d43-31fa4362663b",
   "metadata": {},
   "source": [
    "Use a <em>KerasRegressor</em> with a <em>batch size</em> of <em>32</em>, <em>validation split</em> of <em>0.2</em> and <em>20 epochs</em>:"
   ]
  },
  {
   "cell_type": "code",
   "execution_count": null,
   "id": "7160d622-aa04-4fcb-83f0-f819e7e382ac",
   "metadata": {},
   "outputs": [],
   "source": [
    "model = KerasRegressor(model = build_model, batch_size = 32, validation_split = 0.2, epochs = 20)"
   ]
  },
  {
   "cell_type": "markdown",
   "id": "b18079a2-7aa7-4a02-926c-5f31fcc8a803",
   "metadata": {},
   "source": [
    "Compute a <em>GridSearchCV</em> with <em>NegMAE scoring</em>, <em>refit</em> and a <em>verbose</em> of <em>1</em>:"
   ]
  },
  {
   "cell_type": "code",
   "execution_count": null,
   "id": "4be06366",
   "metadata": {},
   "outputs": [],
   "source": [
    "grid_search = GridSearchCV(estimator=model, param_grid= param_grid, cv=kf, scoring='neg_mean_absolute_error', refit='True', verbose=1)"
   ]
  },
  {
   "cell_type": "markdown",
   "id": "6c5db378-fe6d-4a06-98a2-131bc4b1bdf0",
   "metadata": {},
   "source": [
    "Fit the model:"
   ]
  },
  {
   "cell_type": "code",
   "execution_count": null,
   "id": "f7c7884e-3e37-4e63-a88b-8c191e7f5c4e",
   "metadata": {},
   "outputs": [],
   "source": [
    "grid_search.fit(X_train, y_train)"
   ]
  },
  {
   "cell_type": "markdown",
   "id": "5781a33e-b1ad-4624-aa45-b9cab2172e61",
   "metadata": {},
   "source": [
    "#### Best results"
   ]
  },
  {
   "cell_type": "markdown",
   "id": "aa229781-db7f-4cdc-a68a-2671dae16acf",
   "metadata": {},
   "source": [
    "Find the <em>best score</em> and the <em>best params</em>:"
   ]
  },
  {
   "cell_type": "code",
   "execution_count": null,
   "id": "6231efd3-1237-46d4-9500-08283ae9d24a",
   "metadata": {},
   "outputs": [],
   "source": [
    "print(\"Best: %f using %s\" % (grid_search.best_score_, grid_search.best_params_))"
   ]
  },
  {
   "cell_type": "markdown",
   "id": "0a976e6f-5023-4743-bc05-a5ccf49c51e8",
   "metadata": {},
   "source": [
    "Find the <em>mean test score</em>, <em>std test score</em> and <em>params</em> for each search:"
   ]
  },
  {
   "cell_type": "code",
   "execution_count": 23,
   "id": "9e6afbf7",
   "metadata": {},
   "outputs": [],
   "source": [
    "means = grid_search.cv_results_['mean_test_score']\n",
    "stds = grid_search.cv_results_['std_test_score']\n",
    "params = grid_search.cv_results_['params']"
   ]
  },
  {
   "cell_type": "code",
   "execution_count": null,
   "id": "c9962768-f34f-4c10-b2fa-561caf5edc68",
   "metadata": {},
   "outputs": [],
   "source": [
    "for mean, stdev, param in zip(means, stds, params):\n",
    "    print(\"%f (%f) with: %r\" % (mean, stdev, param))"
   ]
  },
  {
   "cell_type": "markdown",
   "id": "6a4e7fc8-8301-4c21-864f-ae9059cf9340",
   "metadata": {},
   "source": [
    "Find the best model:"
   ]
  },
  {
   "cell_type": "code",
   "execution_count": null,
   "id": "3c54fff3",
   "metadata": {},
   "outputs": [],
   "source": [
    "best_mlp_model = grid_search.best_estimator_\n",
    "print(best_mlp_model)"
   ]
  },
  {
   "cell_type": "markdown",
   "id": "21f7018a-2587-4b29-b8d0-54efb0debfd8",
   "metadata": {
    "tags": []
   },
   "source": [
    "### Use the best model"
   ]
  },
  {
   "cell_type": "markdown",
   "id": "e74773e3-42fd-46b7-a7fb-a9c7baab1044",
   "metadata": {},
   "source": [
    "Fit the best model:"
   ]
  },
  {
   "cell_type": "code",
   "execution_count": null,
   "id": "ed5f5c5e",
   "metadata": {},
   "outputs": [],
   "source": [
    "best_mlp_model.fit(X_train, y_train, epochs = 20, validation_data = (X_test, y_test), verbose = 1)"
   ]
  },
  {
   "cell_type": "code",
   "execution_count": null,
   "id": "501392b1-6136-44ae-96bf-05c2eb3555a3",
   "metadata": {},
   "outputs": [],
   "source": [
    "plt.plot(best_mlp_model.history_['loss'])\n",
    "plt.plot(best_mlp_model.history_['val_loss'])\n",
    "plt.title('model performance')\n",
    "plt.ylabel('loss values')\n",
    "plt.xlabel('epoch')\n",
    "plt.legend(['train','val'], loc='upper left')\n",
    "plt.show()"
   ]
  },
  {
   "cell_type": "code",
   "execution_count": null,
   "id": "e6dcccfb-e4bc-4293-bea8-2a1f1d5fc5a2",
   "metadata": {},
   "outputs": [],
   "source": [
    "pd.DataFrame(best_mlp_model.history_).plot(figsize = (8,5))\n",
    "plt.show()"
   ]
  },
  {
   "cell_type": "markdown",
   "id": "aba40e53-df5e-46e3-aaba-c6267b1b4e35",
   "metadata": {
    "tags": []
   },
   "source": [
    "### Predictions"
   ]
  },
  {
   "cell_type": "markdown",
   "id": "0063b05e",
   "metadata": {},
   "source": [
    "Obtain the predictions:"
   ]
  },
  {
   "cell_type": "code",
   "execution_count": null,
   "id": "cb042f2a-01d7-4088-bf69-8a67e3ae691d",
   "metadata": {},
   "outputs": [],
   "source": [
    "predictions = best_mlp_model.predict(X_test)"
   ]
  },
  {
   "cell_type": "markdown",
   "id": "4e974821-b006-43a6-892a-d05b8aa43360",
   "metadata": {},
   "source": [
    "Print the first five:"
   ]
  },
  {
   "cell_type": "code",
   "execution_count": null,
   "id": "461bf0d5-35d8-473d-859f-ee4bbbab994a",
   "metadata": {},
   "outputs": [],
   "source": []
  },
  {
   "cell_type": "markdown",
   "id": "1c373a24-6701-4464-89c7-93a71f1b2cd2",
   "metadata": {
    "tags": []
   },
   "source": [
    "### Evaluate the model"
   ]
  },
  {
   "cell_type": "code",
   "execution_count": 1,
   "id": "448efd3b-8685-4f21-8b5e-045ec42304b4",
   "metadata": {},
   "outputs": [],
   "source": [
    "from sklearn import metrics"
   ]
  },
  {
   "cell_type": "markdown",
   "id": "14857447",
   "metadata": {},
   "source": [
    "Assess by MAE, MSE and RMSE:"
   ]
  },
  {
   "cell_type": "code",
   "execution_count": null,
   "id": "3bb1eeff",
   "metadata": {},
   "outputs": [],
   "source": [
    "print('MAE:', metrics.mean_absolute_error(y_test, predictions))\n",
    "print('MSE:', metrics.mean_squared_error(y_test, predictions))\n",
    "print('RMSE:', np.sqrt(metrics.mean_absolute_error(y_test, predictions)))"
   ]
  },
  {
   "cell_type": "markdown",
   "id": "df635e84",
   "metadata": {},
   "source": [
    "Scatter the real values with the predictions:"
   ]
  },
  {
   "cell_type": "code",
   "execution_count": null,
   "id": "4cc5ce86",
   "metadata": {},
   "outputs": [],
   "source": [
    "plt.scatter(y_test, predictions)"
   ]
  },
  {
   "cell_type": "markdown",
   "id": "3307c825",
   "metadata": {},
   "source": [
    "Create a visualization of the actual and predicted results. Limit it to 200 comparisons:"
   ]
  },
  {
   "cell_type": "code",
   "execution_count": null,
   "id": "840b7c67-0cfd-4b07-95d0-482034c49237",
   "metadata": {},
   "outputs": [],
   "source": [
    "def real_predicted_viz(limit):\n",
    "    plt.figure(figsize=(14,6))\n",
    "    plt.plot(y_test[:limit], color='green', label = 'Actual')\n",
    "    plt.plot(predictions[:limit], color = 'red', label = 'Predicted')\n",
    "    plt.grid(alpha = 0.3)\n",
    "    plt.xlabel('Houses')\n",
    "    plt.ylabel('Price')\n",
    "    plt.title('Real vs Predicted')\n",
    "    plt.legend()\n",
    "    plt.show()"
   ]
  },
  {
   "cell_type": "code",
   "execution_count": null,
   "id": "e378569f",
   "metadata": {
    "tags": []
   },
   "outputs": [],
   "source": [
    "real_predicted_viz(200)"
   ]
  },
  {
   "cell_type": "markdown",
   "id": "abd373d1-3c6f-46e6-bde3-6f6d46f4f37b",
   "metadata": {},
   "source": [
    "# Data scaling"
   ]
  },
  {
   "cell_type": "markdown",
   "id": "883784ce-bdb0-4960-864a-a4475bb66d8e",
   "metadata": {},
   "source": [
    "**Data scaling** or **normalization** is a process of making model data in a standard format so that the training is improved, accurate, and faster."
   ]
  },
  {
   "cell_type": "code",
   "execution_count": null,
   "id": "5eec317b-ab94-4c7c-8f76-1bc597944263",
   "metadata": {
    "tags": []
   },
   "outputs": [],
   "source": []
  },
  {
   "cell_type": "markdown",
   "id": "4a8801b0-22eb-4df3-8e2f-bfb2556ac60a",
   "metadata": {},
   "source": [
    "Artificial neural networks are \"picky\" - they prefer scaled data!\n",
    "Therefore, and since our data have a large variation of values, let's scale the data to be in the interval between [0, 1]:"
   ]
  },
  {
   "cell_type": "code",
   "execution_count": null,
   "id": "dff33331-9f1e-4b8b-bc5e-e18da331df5e",
   "metadata": {
    "tags": []
   },
   "outputs": [],
   "source": [
    "from sklearn.preprocessing import MinMaxScaler"
   ]
  },
  {
   "cell_type": "code",
   "execution_count": null,
   "id": "8c1c4c58",
   "metadata": {},
   "outputs": [],
   "source": []
  },
  {
   "cell_type": "markdown",
   "id": "3192f816-d70e-4fd3-b483-a86a84b1db73",
   "metadata": {},
   "source": [
    "Visualize the head of <em>X</em>:"
   ]
  },
  {
   "cell_type": "code",
   "execution_count": null,
   "id": "b67cd346",
   "metadata": {},
   "outputs": [],
   "source": []
  },
  {
   "cell_type": "markdown",
   "id": "76a10129-b945-4f11-97a4-4aa4aeba0f49",
   "metadata": {},
   "source": [
    "And now scaled:"
   ]
  },
  {
   "cell_type": "code",
   "execution_count": null,
   "id": "53ef23de",
   "metadata": {},
   "outputs": [],
   "source": []
  },
  {
   "cell_type": "markdown",
   "id": "71a804a4-c4ae-42b9-a69c-6fcceada46fb",
   "metadata": {},
   "source": [
    "Visualize the head of <em>y</em>:"
   ]
  },
  {
   "cell_type": "code",
   "execution_count": null,
   "id": "25081753",
   "metadata": {},
   "outputs": [],
   "source": []
  },
  {
   "cell_type": "markdown",
   "id": "071d5294-078d-4857-a058-c5defef6882c",
   "metadata": {},
   "source": [
    "And now scaled:"
   ]
  },
  {
   "cell_type": "code",
   "execution_count": null,
   "id": "143786f9",
   "metadata": {},
   "outputs": [],
   "source": []
  },
  {
   "cell_type": "markdown",
   "id": "b7338983-8185-4562-9159-113544fbd10f",
   "metadata": {
    "tags": []
   },
   "source": [
    "## Train Test Split"
   ]
  },
  {
   "cell_type": "markdown",
   "id": "c83e73b7-63dd-4d86-be93-4500600b6a4c",
   "metadata": {
    "tags": []
   },
   "source": [
    "Divide the subsets of test and training data:"
   ]
  },
  {
   "cell_type": "code",
   "execution_count": null,
   "id": "02bcd524-cebf-44c2-b507-c5c359171f10",
   "metadata": {},
   "outputs": [],
   "source": []
  },
  {
   "cell_type": "markdown",
   "id": "f32dd01c-e4ce-456b-a4de-1d5f2c75f6dd",
   "metadata": {},
   "source": [
    "## MLP"
   ]
  },
  {
   "cell_type": "markdown",
   "id": "1129ab25-f8f3-4c2a-9650-3997442f805c",
   "metadata": {},
   "source": [
    "Build the model:"
   ]
  },
  {
   "cell_type": "code",
   "execution_count": null,
   "id": "fe04829e-7edd-4a19-85ed-50a3a95873de",
   "metadata": {},
   "outputs": [],
   "source": []
  },
  {
   "cell_type": "code",
   "execution_count": null,
   "id": "8ef6048c-9854-4048-b871-0ccba8d58eae",
   "metadata": {},
   "outputs": [],
   "source": []
  },
  {
   "cell_type": "code",
   "execution_count": null,
   "id": "819bfb98-00a4-4e05-8a89-f9178927e122",
   "metadata": {},
   "outputs": [],
   "source": []
  },
  {
   "cell_type": "code",
   "execution_count": null,
   "id": "5466cafb-bc0f-4ce6-b6cb-ddc12a3876ac",
   "metadata": {},
   "outputs": [],
   "source": []
  },
  {
   "cell_type": "markdown",
   "id": "26f498f6-c3c2-4d6c-a57f-b893de30b519",
   "metadata": {},
   "source": [
    "#### Best results"
   ]
  },
  {
   "cell_type": "markdown",
   "id": "65e9c0b1-ddd7-4c08-9821-190f4ebd4a78",
   "metadata": {},
   "source": [
    "Find the <em>best score</em> and the <em>best params</em>:"
   ]
  },
  {
   "cell_type": "code",
   "execution_count": null,
   "id": "746c089b-b8b4-499c-bb66-2fc42e7ad458",
   "metadata": {},
   "outputs": [],
   "source": []
  },
  {
   "cell_type": "markdown",
   "id": "d49800be-346b-4a9b-b42b-9dc298beda62",
   "metadata": {},
   "source": [
    "Find the <em>mean test score</em>, <em>std test score</em> and <em>params</em> for each search:"
   ]
  },
  {
   "cell_type": "code",
   "execution_count": null,
   "id": "e9ceeb47-f827-4b7b-b579-973a0e2dc9ca",
   "metadata": {},
   "outputs": [],
   "source": []
  },
  {
   "cell_type": "code",
   "execution_count": null,
   "id": "20cc355d-a621-432f-ac5a-9e398ba07079",
   "metadata": {},
   "outputs": [],
   "source": []
  },
  {
   "cell_type": "markdown",
   "id": "dcb2468f-6ed2-44e4-8343-aa25dd73decd",
   "metadata": {},
   "source": [
    "Find the best model:"
   ]
  },
  {
   "cell_type": "code",
   "execution_count": null,
   "id": "5f5510c3-8fde-4a43-87bf-26335521a513",
   "metadata": {},
   "outputs": [],
   "source": []
  },
  {
   "cell_type": "markdown",
   "id": "8d305480-4e1a-4402-bb01-7b870db8dea8",
   "metadata": {
    "tags": []
   },
   "source": [
    "### Use the best model"
   ]
  },
  {
   "cell_type": "markdown",
   "id": "8e021010-0eef-46f1-ab45-23109fee27f6",
   "metadata": {},
   "source": [
    "Fit the best model:"
   ]
  },
  {
   "cell_type": "code",
   "execution_count": null,
   "id": "239a09c3-ce6b-4aff-8c96-577b24e2a70f",
   "metadata": {},
   "outputs": [],
   "source": []
  },
  {
   "cell_type": "code",
   "execution_count": null,
   "id": "7e18a14a-c33f-4d62-858b-549ebab48050",
   "metadata": {},
   "outputs": [],
   "source": []
  },
  {
   "cell_type": "code",
   "execution_count": null,
   "id": "892ae02a-79fd-4e70-8d37-c4350626c40c",
   "metadata": {},
   "outputs": [],
   "source": []
  },
  {
   "cell_type": "markdown",
   "id": "b0579cba-d473-4262-86d5-da9754989e69",
   "metadata": {
    "tags": []
   },
   "source": [
    "### Predictions"
   ]
  },
  {
   "cell_type": "markdown",
   "id": "1a583f0a-c39e-4a32-b9f4-9ede66cb791e",
   "metadata": {},
   "source": [
    "Obtain the predictions:"
   ]
  },
  {
   "cell_type": "code",
   "execution_count": null,
   "id": "c72702f9-4e6d-4456-8f36-624028727d65",
   "metadata": {
    "tags": []
   },
   "outputs": [],
   "source": []
  },
  {
   "cell_type": "code",
   "execution_count": null,
   "id": "6bee5486-034d-4b8c-8a67-96cde41109a0",
   "metadata": {},
   "outputs": [],
   "source": []
  },
  {
   "cell_type": "markdown",
   "id": "2193ce51-bf1d-4cae-be5c-fa1edc0ed70c",
   "metadata": {
    "tags": []
   },
   "source": [
    "Print the first five:"
   ]
  },
  {
   "cell_type": "code",
   "execution_count": null,
   "id": "9fa77ae0-da0f-41db-9392-9c38d56a5b84",
   "metadata": {},
   "outputs": [],
   "source": []
  },
  {
   "cell_type": "markdown",
   "id": "45657eae-d35c-4939-905b-d58ef3f63990",
   "metadata": {},
   "source": [
    "Unscale the predictions to see the real prices:"
   ]
  },
  {
   "cell_type": "code",
   "execution_count": null,
   "id": "a40bd7dc-c3da-416c-9448-4e36239e3b34",
   "metadata": {},
   "outputs": [],
   "source": [
    " "
   ]
  },
  {
   "cell_type": "markdown",
   "id": "64b8664b-8d79-43d7-a544-915642ad371a",
   "metadata": {},
   "source": [
    "Print the first five:"
   ]
  },
  {
   "cell_type": "code",
   "execution_count": null,
   "id": "0850781f",
   "metadata": {},
   "outputs": [],
   "source": []
  },
  {
   "cell_type": "markdown",
   "id": "f37316b0-9c0a-47e0-b839-b66f9cea13e2",
   "metadata": {},
   "source": [
    "Unscale <em>y_test</em> to get the original values:"
   ]
  },
  {
   "cell_type": "code",
   "execution_count": null,
   "id": "522fac46-07cf-4aef-9298-96fce2b6c70f",
   "metadata": {},
   "outputs": [],
   "source": []
  },
  {
   "cell_type": "markdown",
   "id": "82ea40f8-078c-4e8d-adb8-906eb0b19f03",
   "metadata": {},
   "source": [
    "Print the first five:"
   ]
  },
  {
   "cell_type": "code",
   "execution_count": null,
   "id": "0690ab63",
   "metadata": {},
   "outputs": [],
   "source": []
  },
  {
   "cell_type": "markdown",
   "id": "fc112666-8ec9-4c56-a24e-308633c916dd",
   "metadata": {
    "tags": []
   },
   "source": [
    "### Evaluate the model"
   ]
  },
  {
   "cell_type": "markdown",
   "id": "37757058-c4d4-42d6-8025-e41b0c7193eb",
   "metadata": {},
   "source": [
    "Assess by MAE, MSE and RMSE:"
   ]
  },
  {
   "cell_type": "code",
   "execution_count": null,
   "id": "b7be38e2-59bd-4b2c-91b2-099efcacd172",
   "metadata": {},
   "outputs": [],
   "source": []
  },
  {
   "cell_type": "markdown",
   "id": "6bbb9750-1c7e-4d48-b728-6b1edcbae3e7",
   "metadata": {},
   "source": [
    "Scatter the real values with the predictions:"
   ]
  },
  {
   "cell_type": "code",
   "execution_count": null,
   "id": "705e7c0b-0768-43c7-877b-a6df9eba50c4",
   "metadata": {},
   "outputs": [],
   "source": []
  },
  {
   "cell_type": "markdown",
   "id": "8e175bd7-64da-4913-950a-022de10eb3eb",
   "metadata": {},
   "source": [
    "Create a visualization of the actual and predicted results. Limit it to 200 comparisons:"
   ]
  },
  {
   "cell_type": "code",
   "execution_count": null,
   "id": "75cd0c45-74fd-4659-92e7-e0eee19ab240",
   "metadata": {},
   "outputs": [],
   "source": []
  },
  {
   "cell_type": "code",
   "execution_count": null,
   "id": "06257c81-157d-494c-b710-2488a760cea2",
   "metadata": {
    "tags": []
   },
   "outputs": [],
   "source": []
  },
  {
   "cell_type": "markdown",
   "id": "4852643b-f153-4f4c-9556-e1e40a439157",
   "metadata": {},
   "source": [
    "##\n",
    "#### Compare the results with the ones obtained with the Linear Regression model created in class 4.\n",
    "\n",
    "#### **Which model performed better?**"
   ]
  },
  {
   "cell_type": "code",
   "execution_count": null,
   "id": "af150110-1090-4bb8-a02d-b84fba040324",
   "metadata": {},
   "outputs": [],
   "source": []
  }
 ],
 "metadata": {
  "kernelspec": {
   "display_name": "Python 3 (ipykernel)",
   "language": "python",
   "name": "python3"
  },
  "language_info": {
   "codemirror_mode": {
    "name": "ipython",
    "version": 3
   },
   "file_extension": ".py",
   "mimetype": "text/x-python",
   "name": "python",
   "nbconvert_exporter": "python",
   "pygments_lexer": "ipython3",
   "version": "3.10.0"
  }
 },
 "nbformat": 4,
 "nbformat_minor": 5
}
