{
 "cells": [
  {
   "cell_type": "markdown",
   "id": "a2c6fbd1",
   "metadata": {},
   "source": [
    "# Count Circles\n",
    "\n",
    "## Description\n",
    "\n",
    "Count the number of circles in the following image\n"
   ]
  },
  {
   "cell_type": "markdown",
   "id": "38953554",
   "metadata": {},
   "source": [
    "## Group ID\n",
    "\n",
    "Identify your group here, including the number and name of each group's member"
   ]
  },
  {
   "cell_type": "code",
   "execution_count": null,
   "id": "1e6867c8",
   "metadata": {},
   "outputs": [],
   "source": [
    "import cv2\n",
    "# to install cv2 use: pip install opencv-python\n",
    "import matplotlib.pyplot as plt \n",
    "import numpy as np"
   ]
  },
  {
   "cell_type": "code",
   "execution_count": null,
   "id": "5604db12",
   "metadata": {},
   "outputs": [],
   "source": [
    "fname = 'Circles-noisy.png'\n",
    "img = cv2.imread(fname,cv2.IMREAD_GRAYSCALE)\n",
    "W,H=img.shape\n",
    "print(img.shape)\n",
    "ratio=H/W\n",
    "fig = plt.figure(figsize=(8,8*ratio))\n",
    "plt.imshow(img, cmap='gray')"
   ]
  }
 ],
 "metadata": {
  "kernelspec": {
   "display_name": "Python 3 (ipykernel)",
   "language": "python",
   "name": "python3"
  },
  "language_info": {
   "codemirror_mode": {
    "name": "ipython",
    "version": 3
   },
   "file_extension": ".py",
   "mimetype": "text/x-python",
   "name": "python",
   "nbconvert_exporter": "python",
   "pygments_lexer": "ipython3",
   "version": "3.9.5"
  }
 },
 "nbformat": 4,
 "nbformat_minor": 5
}
