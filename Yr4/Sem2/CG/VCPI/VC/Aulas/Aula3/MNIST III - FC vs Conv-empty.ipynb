{
 "cells": [
  {
   "attachments": {},
   "cell_type": "markdown",
   "metadata": {},
   "source": [
    "# Fully Connected vs. Convolutional Neural Networks"
   ]
  },
  {
   "cell_type": "markdown",
   "metadata": {},
   "source": [
    "## Refs \n",
    "\n",
    "https://www.tensorflow.org/install\n",
    "\n",
    "https://www.tensorflow.org/tutorials/keras/classification\n",
    "    "
   ]
  },
  {
   "cell_type": "code",
   "execution_count": 8,
   "metadata": {},
   "outputs": [],
   "source": [
    "import torch\n",
    "import torchvision\n",
    "import torchvision.transforms as transforms\n",
    "\n",
    "import torchinfo\n",
    "# importing a module with utilities for displaying stats and data\n",
    "import sys\n",
    "sys.path.insert(1, '../../util')\n",
    "import vcpi_util\n",
    "\n",
    "import numpy as np\n",
    "import matplotlib.pyplot as plt\n",
    "import time"
   ]
  },
  {
   "cell_type": "markdown",
   "metadata": {},
   "source": [
    "# Auxiliary functions"
   ]
  },
  {
   "cell_type": "code",
   "execution_count": 9,
   "metadata": {},
   "outputs": [],
   "source": [
    "def evaluate(model, data_loader):\n",
    "\n",
    "    # sets the model in evaluation mode.\n",
    "    # although our model does not have layers which behave differently during training and evaluation\n",
    "    # this is a good practice as the models architecture may change in the future\n",
    "    model.eval()\n",
    "\n",
    "    correct = 0\n",
    "    \n",
    "    for i, (images, targets) in enumerate(data_loader):\n",
    "         \n",
    "        # forward pass, compute the output of the model for the current batch\n",
    "        outputs = model(images.to(device))\n",
    "\n",
    "        # \"max\" returns a namedtuple (values, indices) where values is the maximum \n",
    "        # value of each row of the input tensor in the given dimension dim; \n",
    "        # indices is the index location of each maximum value found (argmax).\n",
    "        # the argmax effectively provides the predicted class number        \n",
    "        _, preds = torch.max(outputs, dim=1)\n",
    "\n",
    "        correct += (preds.cpu() == targets).sum()\n",
    "\n",
    "    return (correct / len(data_loader.dataset)).item()\n",
    "\n",
    "def train(model, data_loader, epochs, loss_fn, optimizer):\n",
    "\n",
    "    # sets the model in training mode.\n",
    "    # although our model does not have layers which behave differently during training and evaluation\n",
    "    # this is a good practice as the models architecture may change in the future\n",
    "    model.train()\n",
    "\n",
    "    history = {}\n",
    "    history['accuracy'] = []\n",
    "    history['loss'] = []\n",
    "\n",
    "    for epoch in range(epochs):  # loop over the dataset multiple times\n",
    "\n",
    "        start_time = time.time() \n",
    "        correct = 0\n",
    "        running_loss = 0.0\n",
    "        for i, (inputs, targets) in enumerate(data_loader, 0):\n",
    "            \n",
    "            # send data to device, hopefully the GPU\n",
    "            inputs = inputs.to(device)\n",
    "            targets = targets.to(device)\n",
    "\n",
    "            # forward pass, compute the output of the model for the current batch\n",
    "            outputs = model(inputs)\n",
    "\n",
    "\n",
    "            _, predicted = torch.max(outputs, 1)\n",
    "\n",
    "            #compute the loss between the model's outputs and the labels, or targets.\n",
    "            loss = loss_fn(outputs, targets)\n",
    "            \n",
    "            # zero the parameter gradients\n",
    "            # this function must be called before calling \"backward\" on the losses, otherwise the gradients get accumulated with previous batches.\n",
    "            optimizer.zero_grad()\n",
    "\n",
    "            # perform backpropagation\n",
    "            loss.backward()\n",
    "            #update the model's parameters\n",
    "            optimizer.step()\n",
    "\n",
    "            running_loss += loss\n",
    "            correct += (predicted == targets).sum()\n",
    "\n",
    "        accuracy = 100 * correct / len(train_set)\n",
    "        stop_time = time.time()\n",
    "        print(f'Epoch: {epoch:03d}; Accuracy = {accuracy:0.4f}; Elapsed time: {(stop_time - start_time):0.4f}')\n",
    "        history['accuracy'].append(accuracy.cpu().numpy())\n",
    "        history['loss'].append(running_loss.cpu().detach().numpy())\n",
    "        \n",
    "    print('Finished Training')\n",
    "\n",
    "    return(history)\n",
    "\n",
    "\n",
    "def show_histories():\n",
    "\n",
    "    # summarize history for accuracy\n",
    "    plt.plot(history_IV['accuracy'])\n",
    "    plt.plot(history_C['accuracy'])\n",
    "    plt.title('model accuracy')\n",
    "    plt.ylabel('accuracy')\n",
    "    plt.xlabel('epoch')\n",
    "    plt.legend(['model FC', 'model Conv'], loc='lower right')\n",
    "    plt.show()\n",
    "\n",
    "\n",
    "def show_accuracies(): \n",
    "    fig, ax = plt.subplots()\n",
    "    X = np.arange(4)\n",
    "\n",
    "    models = ['model 1', 'model 2', 'model 3', 'model 4']\n",
    "    plt.bar(X, eval_acc, width = 0.4, color = 'b', label='eval')\n",
    "    plt.bar(X + 0.4, train_acc, color = 'r', width = 0.4, label = \"train\")\n",
    "    plt.xticks(X + 0.4 / 2, models)\n",
    "    plt.ylim(top = 100, bottom =95)\n",
    "    plt.legend(loc='lower right')\n",
    "    plt.show()    \n",
    "\n",
    "\n",
    "def build_confusion_matrix(model, dataset):\n",
    "\n",
    "    preds = []\n",
    "    ground_truth = []\n",
    "\n",
    "    for images, targets in dataset:\n",
    "\n",
    "        predictions = model_IV(images.to(device))\n",
    "        preds_sparse = [np.argmax(x) for x in predictions.cpu().detach().numpy()]\n",
    "        preds.extend(preds_sparse)\n",
    "        ground_truth.extend(targets.numpy())\n",
    "\n",
    "    vcpi_util.show_confusion_matrix(ground_truth, preds)        "
   ]
  },
  {
   "cell_type": "code",
   "execution_count": 10,
   "metadata": {},
   "outputs": [
    {
     "name": "stdout",
     "output_type": "stream",
     "text": [
      "cuda:0\n"
     ]
    }
   ],
   "source": [
    "device = torch.device('cuda:0' if torch.cuda.is_available() else 'cpu')\n",
    "print(device)\n",
    "\n",
    "epochs = 3"
   ]
  },
  {
   "cell_type": "markdown",
   "metadata": {},
   "source": [
    "## Load MNIST dataset"
   ]
  },
  {
   "cell_type": "code",
   "execution_count": 11,
   "metadata": {},
   "outputs": [],
   "source": [
    "transform = transforms.Compose(\n",
    "    [transforms.ToTensor()]) \n",
    "\n",
    "batch_size = 128\n",
    "\n",
    "train_set = torchvision.datasets.MNIST(root='./data', train=True,\n",
    "                                        download=True, transform=transform)\n",
    "train_loader = torch.utils.data.DataLoader(train_set, batch_size=batch_size,\n",
    "                                          shuffle=True)\n",
    "\n",
    "test_set = torchvision.datasets.MNIST(root='./data', train=False,\n",
    "                                       download=True, transform=transform)\n",
    "test_loader = torch.utils.data.DataLoader(test_set, batch_size=batch_size,\n",
    "                                         shuffle=False)"
   ]
  },
  {
   "cell_type": "markdown",
   "metadata": {},
   "source": [
    "## Display a few images"
   ]
  },
  {
   "cell_type": "code",
   "execution_count": 12,
   "metadata": {},
   "outputs": [
    {
     "data": {
      "image/png": "[encoded data removed]",
      "text/plain": [
       "<Figure size 1600x600 with 24 Axes>"
      ]
     },
     "metadata": {},
     "output_type": "display_data"
    },
    {
     "data": {
      "text/plain": [
       "<Figure size 640x480 with 0 Axes>"
      ]
     },
     "metadata": {},
     "output_type": "display_data"
    }
   ],
   "source": [
    "images, targets = next(iter(train_loader))\n",
    "\n",
    "# these are the transformed images\n",
    "vcpi_util.show_transformed_images(3,8, train_set, train_set.classes) "
   ]
  },
  {
   "cell_type": "markdown",
   "metadata": {},
   "source": [
    "# Build and train a fully connected model"
   ]
  },
  {
   "cell_type": "code",
   "execution_count": 13,
   "metadata": {},
   "outputs": [],
   "source": [
    "class FullyConnected_IV(torch.nn.Module):\n",
    "\n",
    "    def __init__(self,num_classes):\n",
    "        super().__init__()\n",
    "        self.fc1 = torch.nn.Linear(784, 256)\n",
    "        self.relu1 = torch.nn.ReLU()\n",
    "        self.fc2 = torch.nn.Linear(256,128)\n",
    "        self.relu2 = torch.nn.ReLU()\n",
    "        self.fc3 = torch.nn.Linear(128,64)\n",
    "        self.relu3 = torch.nn.ReLU()\n",
    "        self.fc4 = torch.nn.Linear(64,num_classes)\n",
    "        \n",
    "\n",
    "    def forward(self, x):    \n",
    "\n",
    "        x = torch.flatten(x,1)\n",
    "        x = self.fc1(x)\n",
    "        x = self.relu1(x)\n",
    "        x = self.fc2(x)\n",
    "        x = self.relu2(x)\n",
    "        x = self.fc3(x)\n",
    "        x = self.relu3(x)\n",
    "        x = self.fc4(x)\n",
    "\n",
    "        return(x)"
   ]
  },
  {
   "cell_type": "code",
   "execution_count": 14,
   "metadata": {},
   "outputs": [
    {
     "name": "stdout",
     "output_type": "stream",
     "text": [
      "FullyConnected_IV(\n",
      "  (fc1): Linear(in_features=784, out_features=256, bias=True)\n",
      "  (relu1): ReLU()\n",
      "  (fc2): Linear(in_features=256, out_features=128, bias=True)\n",
      "  (relu2): ReLU()\n",
      "  (fc3): Linear(in_features=128, out_features=64, bias=True)\n",
      "  (relu3): ReLU()\n",
      "  (fc4): Linear(in_features=64, out_features=10, bias=True)\n",
      ")\n"
     ]
    },
    {
     "data": {
      "text/plain": [
       "==========================================================================================\n",
       "Layer (type:depth-idx)                   Output Shape              Param #\n",
       "==========================================================================================\n",
       "FullyConnected_IV                        [128, 10]                 --\n",
       "├─Linear: 1-1                            [128, 256]                200,960\n",
       "├─ReLU: 1-2                              [128, 256]                --\n",
       "├─Linear: 1-3                            [128, 128]                32,896\n",
       "├─ReLU: 1-4                              [128, 128]                --\n",
       "├─Linear: 1-5                            [128, 64]                 8,256\n",
       "├─ReLU: 1-6                              [128, 64]                 --\n",
       "├─Linear: 1-7                            [128, 10]                 650\n",
       "==========================================================================================\n",
       "Total params: 242,762\n",
       "Trainable params: 242,762\n",
       "Non-trainable params: 0\n",
       "Total mult-adds (M): 31.07\n",
       "==========================================================================================\n",
       "Input size (MB): 0.40\n",
       "Forward/backward pass size (MB): 0.47\n",
       "Params size (MB): 0.97\n",
       "Estimated Total Size (MB): 1.84\n",
       "=========================================================================================="
      ]
     },
     "execution_count": 14,
     "metadata": {},
     "output_type": "execute_result"
    }
   ],
   "source": [
    "model_IV = FullyConnected_IV(len(train_set.classes))\n",
    "model_IV.to(device)\n",
    "print(model_IV)\n",
    "\n",
    "torchinfo.summary(model_IV, input_size=(batch_size, 1, 28, 28))"
   ]
  },
  {
   "cell_type": "markdown",
   "metadata": {},
   "source": [
    "## Load model"
   ]
  },
  {
   "cell_type": "code",
   "execution_count": 15,
   "metadata": {
    "tags": []
   },
   "outputs": [],
   "source": [
    "optimizer_IV = torch.optim.Adam(model_IV.parameters())\n",
    "\n",
    "retrieved = torch.load(f'model_IV_50.pt')\n",
    "    \n",
    "model_IV.load_state_dict(retrieved['model'])\n",
    "model_IV.to(device)\n",
    "\n",
    "optimizer_IV.load_state_dict(retrieved['optimizer'])\n",
    "history_IV = retrieved['history']\n"
   ]
  },
  {
   "cell_type": "markdown",
   "metadata": {},
   "source": [
    "## Evaluate Model"
   ]
  },
  {
   "cell_type": "code",
   "execution_count": 16,
   "metadata": {},
   "outputs": [
    {
     "data": {
      "text/plain": [
       "0.9817000031471252"
      ]
     },
     "execution_count": 16,
     "metadata": {},
     "output_type": "execute_result"
    }
   ],
   "source": [
    "evaluate(model_IV, test_loader)\n"
   ]
  },
  {
   "cell_type": "code",
   "execution_count": 17,
   "metadata": {},
   "outputs": [
    {
     "data": {
      "image/png": "[encoded data removed]",
      "text/plain": [
       "<Figure size 640x480 with 1 Axes>"
      ]
     },
     "metadata": {},
     "output_type": "display_data"
    },
    {
     "data": {
      "image/png": "[encoded data removed]",
      "text/plain": [
       "<Figure size 640x480 with 1 Axes>"
      ]
     },
     "metadata": {},
     "output_type": "display_data"
    }
   ],
   "source": [
    "vcpi_util.show_history(history_IV)"
   ]
  },
  {
   "cell_type": "code",
   "execution_count": 18,
   "metadata": {},
   "outputs": [],
   "source": [
    "class Conv(torch.nn.Module):\n",
    "    \n",
    "    def __init__(self):\n",
    "        super().__init__()\n",
    "        self.conv1 = torch.nn.Conv2d(1, 16, 3)\n",
    "        self.relu1 = torch.nn.ReLU()\n",
    "        self.conv2 = torch.nn.Conv2d(16, 32, 3)\n",
    "        self.relu2 = torch.nn.ReLU()\n",
    "        self.conv3 = torch.nn.Conv2d(32, 48, 3)\n",
    "        self.relu3 = torch.nn.ReLU()\n",
    "        self.conv4 = torch.nn.Conv2d(48, 48, 3)\n",
    "        self.relu4 = torch.nn.ReLU()\n",
    "        \n",
    "        self.fc1 = torch.nn.Linear(19200, 10) # 48 * 20 * 20 = 19200\n",
    "    \n",
    "    def forward(self, x):\n",
    "        # input (bs, 1, 28, 28)\n",
    "        x = self.conv1(x) # (bs, 16, 26, 26)\n",
    "        x = self.relu1(x)\n",
    "        x = self.conv2(x) # (bs, 32, 24, 24)\n",
    "        x = self.relu2(x)\n",
    "        x = self.conv3(x) # (bs, 48, 22, 22)\n",
    "        x = self.relu3(x)\n",
    "        x = self.conv4(x) # (bs, 48, 20, 20)\n",
    "        x = self.relu4(x)\n",
    "        \n",
    "        x = torch.flatten(x, 1)\n",
    "        x = self.fc1(x)\n",
    "        \n",
    "        return x"
   ]
  },
  {
   "cell_type": "code",
   "execution_count": 19,
   "metadata": {},
   "outputs": [
    {
     "name": "stdout",
     "output_type": "stream",
     "text": [
      "Conv(\n",
      "  (conv1): Conv2d(1, 16, kernel_size=(3, 3), stride=(1, 1))\n",
      "  (relu1): ReLU()\n",
      "  (conv2): Conv2d(16, 32, kernel_size=(3, 3), stride=(1, 1))\n",
      "  (relu2): ReLU()\n",
      "  (conv3): Conv2d(32, 48, kernel_size=(3, 3), stride=(1, 1))\n",
      "  (relu3): ReLU()\n",
      "  (conv4): Conv2d(48, 48, kernel_size=(3, 3), stride=(1, 1))\n",
      "  (relu4): ReLU()\n",
      "  (fc1): Linear(in_features=19200, out_features=10, bias=True)\n",
      ")\n"
     ]
    },
    {
     "data": {
      "text/plain": [
       "==========================================================================================\n",
       "Layer (type:depth-idx)                   Output Shape              Param #\n",
       "==========================================================================================\n",
       "Conv                                     [128, 10]                 --\n",
       "├─Conv2d: 1-1                            [128, 16, 26, 26]         160\n",
       "├─ReLU: 1-2                              [128, 16, 26, 26]         --\n",
       "├─Conv2d: 1-3                            [128, 32, 24, 24]         4,640\n",
       "├─ReLU: 1-4                              [128, 32, 24, 24]         --\n",
       "├─Conv2d: 1-5                            [128, 48, 22, 22]         13,872\n",
       "├─ReLU: 1-6                              [128, 48, 22, 22]         --\n",
       "├─Conv2d: 1-7                            [128, 48, 20, 20]         20,784\n",
       "├─ReLU: 1-8                              [128, 48, 20, 20]         --\n",
       "├─Linear: 1-9                            [128, 10]                 192,010\n",
       "==========================================================================================\n",
       "Total params: 231,466\n",
       "Trainable params: 231,466\n",
       "Non-trainable params: 0\n",
       "Total mult-adds (G): 2.30\n",
       "==========================================================================================\n",
       "Input size (MB): 0.40\n",
       "Forward/backward pass size (MB): 73.41\n",
       "Params size (MB): 0.93\n",
       "Estimated Total Size (MB): 74.74\n",
       "=========================================================================================="
      ]
     },
     "execution_count": 19,
     "metadata": {},
     "output_type": "execute_result"
    }
   ],
   "source": [
    "model_conv = Conv()\n",
    "model_conv.to(device)\n",
    "print(model_conv)\n",
    "\n",
    "torchinfo.summary(model_conv, input_size=(batch_size, 1, 28, 28))"
   ]
  },
  {
   "cell_type": "code",
   "execution_count": 20,
   "metadata": {},
   "outputs": [
    {
     "data": {
      "text/plain": [
       "0.09309999644756317"
      ]
     },
     "execution_count": 20,
     "metadata": {},
     "output_type": "execute_result"
    }
   ],
   "source": [
    "evaluate(model_conv, test_loader)"
   ]
  },
  {
   "cell_type": "code",
   "execution_count": 21,
   "metadata": {},
   "outputs": [
    {
     "name": "stdout",
     "output_type": "stream",
     "text": [
      "Epoch: 000; Accuracy = 94.1817; Elapsed time: 29.5067\n",
      "Epoch: 001; Accuracy = 98.2533; Elapsed time: 28.1824\n",
      "Epoch: 002; Accuracy = 98.8350; Elapsed time: 25.8441\n",
      "Epoch: 003; Accuracy = 99.0467; Elapsed time: 25.8703\n",
      "Epoch: 004; Accuracy = 99.3017; Elapsed time: 26.0793\n",
      "Epoch: 005; Accuracy = 99.4067; Elapsed time: 26.0153\n",
      "Epoch: 006; Accuracy = 99.5617; Elapsed time: 25.5340\n",
      "Epoch: 007; Accuracy = 99.6217; Elapsed time: 26.5568\n",
      "Epoch: 008; Accuracy = 99.6817; Elapsed time: 20.2455\n",
      "Epoch: 009; Accuracy = 99.6967; Elapsed time: 20.9348\n",
      "Epoch: 010; Accuracy = 99.7233; Elapsed time: 20.1749\n",
      "Epoch: 011; Accuracy = 99.7417; Elapsed time: 20.3921\n",
      "Epoch: 012; Accuracy = 99.8133; Elapsed time: 20.1703\n",
      "Epoch: 013; Accuracy = 99.8667; Elapsed time: 20.1671\n",
      "Epoch: 014; Accuracy = 99.8633; Elapsed time: 20.0956\n",
      "Epoch: 015; Accuracy = 99.8633; Elapsed time: 20.1357\n",
      "Epoch: 016; Accuracy = 99.8433; Elapsed time: 19.8999\n",
      "Epoch: 017; Accuracy = 99.8650; Elapsed time: 19.9927\n",
      "Epoch: 018; Accuracy = 99.8883; Elapsed time: 19.9234\n",
      "Epoch: 019; Accuracy = 99.8983; Elapsed time: 19.9250\n",
      "Finished Training\n"
     ]
    }
   ],
   "source": [
    "optimizer_C = torch.optim.Adam(model_conv.parameters())\n",
    "loss_fn = torch.nn.CrossEntropyLoss()\n",
    "history_C = train(model_conv, train_loader, 20, loss_fn, optimizer_C)"
   ]
  },
  {
   "cell_type": "code",
   "execution_count": 22,
   "metadata": {},
   "outputs": [
    {
     "data": {
      "text/plain": [
       "0.9886000156402588"
      ]
     },
     "execution_count": 22,
     "metadata": {},
     "output_type": "execute_result"
    }
   ],
   "source": [
    "evaluate(model_conv, test_loader)"
   ]
  },
  {
   "cell_type": "code",
   "execution_count": null,
   "metadata": {},
   "outputs": [],
   "source": []
  }
 ],
 "metadata": {
  "kernelspec": {
   "display_name": "Python 3",
   "language": "python",
   "name": "python3"
  },
  "language_info": {
   "codemirror_mode": {
    "name": "ipython",
    "version": 3
   },
   "file_extension": ".py",
   "mimetype": "text/x-python",
   "name": "python",
   "nbconvert_exporter": "python",
   "pygments_lexer": "ipython3",
   "version": "3.10.11"
  }
 },
 "nbformat": 4,
 "nbformat_minor": 2
}
