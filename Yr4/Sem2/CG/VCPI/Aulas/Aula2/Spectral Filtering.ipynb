{
 "cells": [
  {
   "cell_type": "markdown",
   "id": "c160d48f",
   "metadata": {},
   "source": [
    "## Using the DFT"
   ]
  },
  {
   "cell_type": "code",
   "execution_count": null,
   "id": "fe5e2d85",
   "metadata": {},
   "outputs": [],
   "source": [
    "import cv2\n",
    "# to install cv2 use: pip install opencv-python\n",
    "import math\n",
    "import matplotlib.pyplot as plt \n",
    "import numpy as np\n"
   ]
  },
  {
   "cell_type": "code",
   "execution_count": null,
   "id": "4bdad51c",
   "metadata": {},
   "outputs": [],
   "source": [
    "fname = 'Images/pagode-noisy.png'\n",
    "img = cv2.imread(fname,cv2.IMREAD_GRAYSCALE)\n",
    "print('Image Shape =', img.shape)"
   ]
  },
  {
   "cell_type": "code",
   "execution_count": null,
   "id": "375e9b13",
   "metadata": {},
   "outputs": [],
   "source": [
    "# convert the image representation to SPFP\n",
    "img_float32 = np.float32(img)"
   ]
  },
  {
   "cell_type": "code",
   "execution_count": null,
   "id": "f825b546",
   "metadata": {},
   "outputs": [],
   "source": [
    "# compute the DFT\n",
    "# Note that the computed DFT has 2 channels :\n",
    "# dft[:,:,0] - real values\n",
    "# dft[:,:,1] - imaginary values\n",
    "dft = cv2.dft(img_float32, flags = cv2.DFT_COMPLEX_OUTPUT)\n",
    "# recenter the DFT , such that the center is (0,0)\n",
    "dft_shift = np.fft.fftshift(dft)"
   ]
  },
  {
   "cell_type": "code",
   "execution_count": null,
   "id": "04fee9a1",
   "metadata": {},
   "outputs": [],
   "source": [
    "# compute the frequency spectrum\n",
    "# module of the complex value\n",
    "magnitude_spectrum = cv2.magnitude(dft_shift[:,:,0],dft_shift[:,:,1])\n",
    "# compute the logarith of magnitude such that smaller values are visible\n",
    "magnitude_spectrum = 20*np.log(magnitude_spectrum)\n"
   ]
  },
  {
   "cell_type": "code",
   "execution_count": null,
   "id": "0add8491",
   "metadata": {},
   "outputs": [],
   "source": [
    "# display the image and the spectrum\n",
    "fig = plt.figure(figsize=(15,5))\n",
    "plt.subplot(121),plt.imshow(img, cmap = 'gray')\n",
    "plt.title('Input Image'), plt.xticks([]), plt.yticks([])\n",
    "plt.subplot(122),plt.imshow(magnitude_spectrum, cmap = 'gray')\n",
    "plt.title('Magnitude Spectrum'), plt.xticks([]), plt.yticks([])\n",
    "plt.show()         "
   ]
  },
  {
   "cell_type": "markdown",
   "id": "bb8e3fa3",
   "metadata": {},
   "source": [
    "### IDEAL LOW PASS FILTER (ILPF)"
   ]
  },
  {
   "cell_type": "code",
   "execution_count": null,
   "id": "7afc5dbc",
   "metadata": {},
   "outputs": [],
   "source": [
    "# manually filter high frequencies using our own ILPF\n",
    "rows, cols = img.shape\n",
    "crow, ccol = rows//2 , cols//2     # center\n",
    "\n",
    "# create a mask first, center square is 1, remaining all zeros\n",
    "ILPF_mask = np.zeros((rows, cols, 2), np.uint8)\n",
    "# filter width and heigth\n",
    "divider = 32\n",
    "frows = rows//divider\n",
    "fcols = cols//divider\n",
    "ILPF_mask[crow-frows:crow+frows, ccol-fcols:ccol+fcols] = (1,1)\n",
    "#ILPF_mask[crow-30:crow+30, ccol-30:ccol+30] = 1\n",
    "\n",
    "# apply mask and inverse DFT\n",
    "dft_masked = dft_shift*ILPF_mask\n",
    "# do not forget to undo the centering of the transform\n",
    "dft_masked_ishift = np.fft.ifftshift(dft_masked)\n",
    "img_back = cv2.idft(dft_masked_ishift)\n",
    "\n",
    "# img_back should only have real values\n",
    "# but let's make sure due to rounding and representation errors\n",
    "img_back = cv2.magnitude(img_back[:,:,0],img_back[:,:,1])\n"
   ]
  },
  {
   "cell_type": "code",
   "execution_count": null,
   "id": "d50b8681",
   "metadata": {},
   "outputs": [],
   "source": [
    "# compute the frequency spectrum of the MASKED_DFT, \n",
    "# just for display purposes\n",
    "# module of the complex value\n",
    "filtered_spectrum = cv2.magnitude(dft_masked[:,:,0],dft_masked[:,:,1])\n",
    "# compute the logarith of magnitude such that smaller values are visible\n",
    "filtered_spectrum = 20*np.log(filtered_spectrum+0.0001)\n",
    "# compute the frequency spectrum of the MASK, \n",
    "# just for display purposes\n",
    "# module of the complex value\n",
    "mask_spectrum = np.sqrt(np.power(ILPF_mask[:,:,0],2)+np.power(ILPF_mask[:,:,1],2))\n",
    "# compute the logarith of magnitude such that smaller values are visible\n",
    "mask_spectrum = 20*np.log(mask_spectrum+0.0001)"
   ]
  },
  {
   "cell_type": "code",
   "execution_count": null,
   "id": "a7e68557",
   "metadata": {
    "scrolled": false
   },
   "outputs": [],
   "source": [
    "# display the image and the spectrum\n",
    "fig = plt.figure(figsize=(15,23))\n",
    "plt.subplot(321),plt.imshow(img, cmap = 'gray')\n",
    "plt.title('Imput Image'), plt.xticks([]), plt.yticks([])\n",
    "plt.subplot(322),plt.imshow(magnitude_spectrum, cmap = 'gray')\n",
    "plt.title('Input Spectrum'), plt.xticks([]), plt.yticks([])\n",
    "plt.subplot(323),plt.imshow(mask_spectrum, cmap = 'gray')\n",
    "plt.title('Filter Spectrum'), plt.xticks([]), plt.yticks([])\n",
    "plt.subplot(325),plt.imshow(img_back, cmap = 'gray')\n",
    "plt.title('Filtered Image'), plt.xticks([]), plt.yticks([])\n",
    "plt.subplot(326),plt.imshow(filtered_spectrum, cmap = 'gray')\n",
    "plt.title('Filtered Spectrum'), plt.xticks([]), plt.yticks([])\n",
    "plt.show()         "
   ]
  },
  {
   "cell_type": "markdown",
   "id": "46752670",
   "metadata": {},
   "source": [
    "### GAUSSIAN LOW PASS FILTER (GLPF)"
   ]
  },
  {
   "cell_type": "code",
   "execution_count": null,
   "id": "c4f6bc58",
   "metadata": {},
   "outputs": [],
   "source": [
    "def gaussian_filter(kernel_size, sigma=1, muu=0):\n",
    " \n",
    "    # Initializing value of x,y as grid of kernel size\n",
    "    # in the range of kernel size\n",
    " \n",
    "    x, y = np.meshgrid(np.linspace(-1, 1, kernel_size),\n",
    "                       np.linspace(-1, 1, kernel_size))\n",
    "    dst = np.sqrt(x**2+y**2)\n",
    " \n",
    "    # lower normal part of gaussian\n",
    "    normal = 1/(2.0 * np.pi * sigma**2)\n",
    " \n",
    "    # Calculating Gaussian filter\n",
    "    gauss = np.exp(-((dst-muu)**2 / (2.0 * sigma**2))) * normal\n",
    "    \n",
    "    gauss = gauss / np.max(gauss)\n",
    "    \n",
    "    return gauss\n",
    " \n",
    "\n",
    "# manually filter high frequencies using our own GLPF\n",
    "kernel_size = 73\n",
    "gaussF = gaussian_filter (kernel_size)\n",
    "\n",
    "# create a mask first, given by the Gaussian\n",
    "GLPF_mask = np.zeros((rows, cols, 2))\n",
    "frows = kernel_size//2\n",
    "fcols = kernel_size//2\n",
    "GLPF_mask[crow-frows:crow+frows+1, ccol-fcols:ccol+fcols+1,0] = gaussF\n",
    "GLPF_mask[crow-frows:crow+frows+1, ccol-fcols:ccol+fcols+1,1] = gaussF\n",
    "\n",
    "# apply mask and inverse DFT\n",
    "dft_masked = dft_shift*GLPF_mask\n",
    "# do not forget to undo the centering of the transform\n",
    "dft_masked_ishift = np.fft.ifftshift(dft_masked)\n",
    "img_back = cv2.idft(dft_masked_ishift)\n",
    "\n",
    "# img_back should only have real values\n",
    "# but let's make sure due to rounding and representation errors\n",
    "img_back = cv2.magnitude(img_back[:,:,0],img_back[:,:,1])"
   ]
  },
  {
   "cell_type": "code",
   "execution_count": null,
   "id": "d848cba5",
   "metadata": {},
   "outputs": [],
   "source": [
    "# compute the frequency spectrum of the MASKED_DFT, \n",
    "# just for display purposes\n",
    "# module of the complex value\n",
    "filtered_spectrum = cv2.magnitude(dft_masked[:,:,0],dft_masked[:,:,1])\n",
    "# compute the logarith of magnitude such that smaller values are visible\n",
    "filtered_spectrum = 20*np.log(filtered_spectrum+0.0001)\n",
    "# compute the frequency spectrum of the MASK, \n",
    "# just for display purposes\n",
    "# module of the complex value\n",
    "mask_spectrum = np.sqrt(np.power(GLPF_mask[:,:,0],2)+np.power(GLPF_mask[:,:,1],2))\n",
    "# compute the logarith of magnitude such that smaller values are visible\n",
    "mask_spectrum = 20*np.log(mask_spectrum+0.0001)"
   ]
  },
  {
   "cell_type": "code",
   "execution_count": null,
   "id": "f9f64a63",
   "metadata": {
    "scrolled": false
   },
   "outputs": [],
   "source": [
    "# display the image and the spectrum\n",
    "fig = plt.figure(figsize=(15,23))\n",
    "plt.subplot(321),plt.imshow(img, cmap = 'gray')\n",
    "plt.title('Input Image'), plt.xticks([]), plt.yticks([])\n",
    "plt.subplot(322),plt.imshow(magnitude_spectrum, cmap = 'gray')\n",
    "plt.title('Input Spectrum'), plt.xticks([]), plt.yticks([])\n",
    "plt.subplot(323),plt.imshow(mask_spectrum, cmap = 'gray')\n",
    "plt.title('Filter Spectrum'), plt.xticks([]), plt.yticks([])\n",
    "plt.subplot(325),plt.imshow(img_back, cmap = 'gray')\n",
    "plt.title('Filtered Image'), plt.xticks([]), plt.yticks([])\n",
    "plt.subplot(326),plt.imshow(filtered_spectrum, cmap = 'gray')\n",
    "plt.title('Filtered Spectrum'), plt.xticks([]), plt.yticks([])\n",
    "plt.show()         "
   ]
  },
  {
   "cell_type": "markdown",
   "id": "93d1a700",
   "metadata": {},
   "source": [
    "### IDEAL HIGH PASS FILTER (IHPF)"
   ]
  },
  {
   "cell_type": "code",
   "execution_count": null,
   "id": "b363a0e1",
   "metadata": {},
   "outputs": [],
   "source": [
    "# manually filter high frequencies using our own ILPF\n",
    "rows, cols = img.shape\n",
    "crow, ccol = rows//2 , cols//2     # center\n",
    "\n",
    "# create a mask first, center square is 0, remaining all ones\n",
    "IHPF_mask = np.ones((rows, cols, 2), np.uint8)\n",
    "# build from ILPF_mask\n",
    "IHPF_mask = 1 - ILPF_mask\n",
    "\n",
    "# apply mask and inverse DFT\n",
    "dft_masked = dft_shift*IHPF_mask\n",
    "# do not forget to undo the centering of the transform\n",
    "dft_masked_ishift = np.fft.ifftshift(dft_masked)\n",
    "img_back = cv2.idft(dft_masked_ishift)\n",
    "\n",
    "# img_back should only have real values\n",
    "# but let's make sure due to rounding and representation errors\n",
    "img_back = cv2.magnitude(img_back[:,:,0],img_back[:,:,1])"
   ]
  },
  {
   "cell_type": "code",
   "execution_count": null,
   "id": "53bf0878",
   "metadata": {},
   "outputs": [],
   "source": [
    "# compute the frequency spectrum of the MASKED_DFT, \n",
    "# just for display purposes\n",
    "# module of the complex value\n",
    "filtered_spectrum = cv2.magnitude(dft_masked[:,:,0],dft_masked[:,:,1])\n",
    "# compute the logarith of magnitude such that smaller values are visible\n",
    "filtered_spectrum = 20*np.log(filtered_spectrum+0.0001)\n",
    "# compute the frequency spectrum of the MASK, \n",
    "# just for display purposes\n",
    "# module of the complex value\n",
    "mask_spectrum = np.sqrt(np.power(IHPF_mask[:,:,0],2)+np.power(IHPF_mask[:,:,1],2))\n",
    "# compute the logarith of magnitude such that smaller values are visible\n",
    "mask_spectrum = 20*np.log(mask_spectrum+0.0001)"
   ]
  },
  {
   "cell_type": "code",
   "execution_count": null,
   "id": "522e5825",
   "metadata": {},
   "outputs": [],
   "source": [
    "# display the image and the spectrum\n",
    "fig = plt.figure(figsize=(15,23))\n",
    "plt.subplot(321),plt.imshow(img, cmap = 'gray')\n",
    "plt.title('Imput Image'), plt.xticks([]), plt.yticks([])\n",
    "plt.subplot(322),plt.imshow(magnitude_spectrum, cmap = 'gray')\n",
    "plt.title('Input Spectrum'), plt.xticks([]), plt.yticks([])\n",
    "plt.subplot(323),plt.imshow(mask_spectrum, cmap = 'gray')\n",
    "plt.title('Filter Spectrum'), plt.xticks([]), plt.yticks([])\n",
    "plt.subplot(325),plt.imshow(img_back, cmap = 'gray')\n",
    "plt.title('Filtered Image'), plt.xticks([]), plt.yticks([])\n",
    "plt.subplot(326),plt.imshow(filtered_spectrum, cmap = 'gray')\n",
    "plt.title('Filtered Spectrum'), plt.xticks([]), plt.yticks([])\n",
    "plt.show()         "
   ]
  },
  {
   "cell_type": "markdown",
   "id": "0a897645",
   "metadata": {},
   "source": [
    "### GAUSSIAN HIGH PASS FILTER (IHPF)"
   ]
  },
  {
   "cell_type": "code",
   "execution_count": null,
   "id": "95ef93fa",
   "metadata": {},
   "outputs": [],
   "source": [
    "# manually filter high frequencies using our own GLPF\n",
    "\n",
    "\n",
    "# create a mask first, center square is 0, remaining all ones\n",
    "GHPF_mask = np.ones((rows, cols, 2), np.uint8)\n",
    "# build from GLPF_mask\n",
    "GHPF_mask = 1 - GLPF_mask\n",
    "\n",
    "# apply mask and inverse DFT\n",
    "dft_masked = dft_shift*GHPF_mask\n",
    "# do not forget to undo the centering of the transform\n",
    "dft_masked_ishift = np.fft.ifftshift(dft_masked)\n",
    "img_back = cv2.idft(dft_masked_ishift)\n",
    "\n",
    "# img_back should only have real values\n",
    "# but let's make sure due to rounding and representation errors\n",
    "img_back = cv2.magnitude(img_back[:,:,0],img_back[:,:,1])"
   ]
  },
  {
   "cell_type": "code",
   "execution_count": null,
   "id": "2994b2a3",
   "metadata": {},
   "outputs": [],
   "source": [
    "# compute the frequency spectrum of the MASKED_DFT, \n",
    "# just for display purposes\n",
    "# module of the complex value\n",
    "filtered_spectrum = cv2.magnitude(dft_masked[:,:,0],dft_masked[:,:,1])\n",
    "# compute the logarith of magnitude such that smaller values are visible\n",
    "filtered_spectrum = 20*np.log(filtered_spectrum+0.0001)\n",
    "# compute the frequency spectrum of the MASK, \n",
    "# just for display purposes\n",
    "# module of the complex value\n",
    "mask_spectrum = np.sqrt(np.power(GHPF_mask[:,:,0],2)+np.power(GHPF_mask[:,:,1],2))\n",
    "# compute the logarith of magnitude such that smaller values are visible\n",
    "mask_spectrum = 20*np.log(mask_spectrum+0.0001)"
   ]
  },
  {
   "cell_type": "code",
   "execution_count": null,
   "id": "347c826a",
   "metadata": {},
   "outputs": [],
   "source": [
    "# display the image and the spectrum\n",
    "fig = plt.figure(figsize=(15,23))\n",
    "plt.subplot(321),plt.imshow(img, cmap = 'gray')\n",
    "plt.title('Imput Image'), plt.xticks([]), plt.yticks([])\n",
    "plt.subplot(322),plt.imshow(magnitude_spectrum, cmap = 'gray')\n",
    "plt.title('Input Spectrum'), plt.xticks([]), plt.yticks([])\n",
    "plt.subplot(323),plt.imshow(mask_spectrum, cmap = 'gray')\n",
    "plt.title('Filter Spectrum'), plt.xticks([]), plt.yticks([])\n",
    "plt.subplot(325),plt.imshow(img_back, cmap = 'gray')\n",
    "plt.title('Filtered Image'), plt.xticks([]), plt.yticks([])\n",
    "plt.subplot(326),plt.imshow(filtered_spectrum, cmap = 'gray')\n",
    "plt.title('Filtered Spectrum'), plt.xticks([]), plt.yticks([])\n",
    "plt.show()         "
   ]
  },
  {
   "cell_type": "code",
   "execution_count": null,
   "id": "5594006f",
   "metadata": {},
   "outputs": [],
   "source": [
    "#cv2.imwrite('Images/myImgFiltered.png',dImg)"
   ]
  },
  {
   "cell_type": "code",
   "execution_count": null,
   "id": "a0ee75c4",
   "metadata": {},
   "outputs": [],
   "source": [
    "print (\"That's all, folks!\")"
   ]
  }
 ],
 "metadata": {
  "kernelspec": {
   "display_name": "Python 3 (ipykernel)",
   "language": "python",
   "name": "python3"
  },
  "language_info": {
   "codemirror_mode": {
    "name": "ipython",
    "version": 3
   },
   "file_extension": ".py",
   "mimetype": "text/x-python",
   "name": "python",
   "nbconvert_exporter": "python",
   "pygments_lexer": "ipython3",
   "version": "3.10.11"
  }
 },
 "nbformat": 4,
 "nbformat_minor": 5
}
