{
 "cells": [
  {
   "cell_type": "markdown",
   "id": "a2c6fbd1",
   "metadata": {},
   "source": [
    "# Image Segmentation with OpenCV"
   ]
  },
  {
   "cell_type": "code",
   "execution_count": null,
   "id": "1e6867c8",
   "metadata": {},
   "outputs": [],
   "source": [
    "import cv2\n",
    "# to install cv2 use: pip install opencv-python\n",
    "import math\n",
    "import matplotlib.pyplot as plt \n",
    "import numpy as np"
   ]
  },
  {
   "cell_type": "markdown",
   "id": "9ae466e0",
   "metadata": {},
   "source": [
    "## Contents\n",
    "\n",
    "* Fundamental Edge Detection\n",
    "* Canny Algorithm\n",
    "* Hough Transform\n",
    "* Thresholding"
   ]
  },
  {
   "cell_type": "markdown",
   "id": "6e3fefb1",
   "metadata": {},
   "source": [
    "### Fundamental Edge Detection"
   ]
  },
  {
   "cell_type": "code",
   "execution_count": null,
   "id": "5604db12",
   "metadata": {},
   "outputs": [],
   "source": [
    "fname = 'Images/building.png'\n",
    "img = cv2.imread(fname,cv2.IMREAD_GRAYSCALE)\n",
    "W,H=img.shape\n",
    "print(img.shape)\n",
    "ratio=H/W\n",
    "fig = plt.figure(figsize=(8,8*ratio))\n",
    "plt.imshow(img, cmap='gray')"
   ]
  },
  {
   "cell_type": "code",
   "execution_count": null,
   "id": "e4fd621b",
   "metadata": {},
   "outputs": [],
   "source": [
    "# Sobel operators\n",
    "\n",
    "sobelx = cv2.Sobel(img,cv2.CV_64F,1,0,ksize=5)\n",
    "sobely = cv2.Sobel(img,cv2.CV_64F,0,1,ksize=5)\n",
    "\n",
    "sobel_mag = np.sqrt(np.power(sobelx,2)+np.power(sobely,2))\n",
    "\n",
    "fig = plt.figure(figsize=(10,8))\n",
    "plt.subplot(2,2,1),plt.imshow(img,cmap = 'gray')\n",
    "plt.title('Original'), plt.xticks([]), plt.yticks([])\n",
    "plt.subplot(2,2,2),plt.imshow(sobel_mag,cmap = 'gray')\n",
    "plt.title('Sobel: Magnitude'), plt.xticks([]), plt.yticks([])\n",
    "plt.subplot(2,2,3),plt.imshow(np.abs(sobelx),cmap = 'gray')\n",
    "plt.title('Sobel X: Absolute'), plt.xticks([]), plt.yticks([])\n",
    "plt.subplot(2,2,4),plt.imshow(np.abs(sobely),cmap = 'gray')\n",
    "plt.title('Sobel Y: Absolute'), plt.xticks([]), plt.yticks([])"
   ]
  },
  {
   "cell_type": "code",
   "execution_count": null,
   "id": "91944c5c",
   "metadata": {},
   "outputs": [],
   "source": [
    "# Sobel operators on smoothed Image\n",
    "\n",
    "img_smooth = cv2.GaussianBlur (img, (9,9), 0)\n",
    "sobelx = cv2.Sobel(img_smooth,cv2.CV_64F,1,0,ksize=5)\n",
    "sobely = cv2.Sobel(img_smooth,cv2.CV_64F,0,1,ksize=5)\n",
    "\n",
    "sobel_mag = np.sqrt(np.power(sobelx,2)+np.power(sobely,2))\n",
    "\n",
    "fig = plt.figure(figsize=(10,8))\n",
    "plt.subplot(2,2,1),plt.imshow(img_smooth,cmap = 'gray')\n",
    "plt.title('Smoothed Image'), plt.xticks([]), plt.yticks([])\n",
    "plt.subplot(2,2,2),plt.imshow(sobel_mag,cmap = 'gray')\n",
    "plt.title('Sobel: Magnitude'), plt.xticks([]), plt.yticks([])\n",
    "plt.subplot(2,2,3),plt.imshow(np.abs(sobelx),cmap = 'gray')\n",
    "plt.title('Sobel X: Absolute'), plt.xticks([]), plt.yticks([])\n",
    "plt.subplot(2,2,4),plt.imshow(np.abs(sobely),cmap = 'gray')\n",
    "plt.title('Sobel Y: Absolute'), plt.xticks([]), plt.yticks([])"
   ]
  },
  {
   "cell_type": "code",
   "execution_count": null,
   "id": "47575ee7",
   "metadata": {},
   "outputs": [],
   "source": [
    "# Thresholding the gradient\n",
    "ret,thresh1 = cv2.threshold(sobel_mag,755,255,cv2.THRESH_BINARY)\n",
    "plt.imshow(thresh1,cmap = 'gray')\n",
    "plt.title('Sobel : Magnitude Thresholded'), plt.xticks([]), plt.yticks([])"
   ]
  },
  {
   "cell_type": "code",
   "execution_count": null,
   "id": "cae9a53e",
   "metadata": {},
   "outputs": [],
   "source": [
    "# A more difficult image\n",
    "fname = 'Images/HeadCT.png'\n",
    "img = cv2.imread(fname,cv2.IMREAD_GRAYSCALE)\n",
    "# Sobel operators on smoothed Image\n",
    "\n",
    "img_smooth = cv2.GaussianBlur (img, (7,7), 0)\n",
    "sobelx = cv2.Sobel(img_smooth,cv2.CV_64F,1,0,ksize=5)\n",
    "sobely = cv2.Sobel(img_smooth,cv2.CV_64F,0,1,ksize=5)\n",
    "\n",
    "sobel_mag = np.sqrt(np.power(sobelx,2)+np.power(sobely,2))\n",
    "\n",
    "fig = plt.figure(figsize=(10,8))\n",
    "plt.subplot(2,2,1),plt.imshow(img_smooth,cmap = 'gray')\n",
    "plt.title('Smoothed Image'), plt.xticks([]), plt.yticks([])\n",
    "plt.subplot(2,2,2),plt.imshow(sobel_mag,cmap = 'gray')\n",
    "plt.title('Sobel: Magnitude'), plt.xticks([]), plt.yticks([])\n",
    "plt.subplot(2,2,3),plt.imshow(np.abs(sobelx),cmap = 'gray')\n",
    "plt.title('Sobel X: Absolute'), plt.xticks([]), plt.yticks([])\n",
    "plt.subplot(2,2,4),plt.imshow(np.abs(sobely),cmap = 'gray')\n",
    "plt.title('Sobel Y: Absolute'), plt.xticks([]), plt.yticks([])"
   ]
  },
  {
   "cell_type": "markdown",
   "id": "1e7b3212",
   "metadata": {},
   "source": [
    "### Canny Algorithm"
   ]
  },
  {
   "cell_type": "code",
   "execution_count": null,
   "id": "318c32df",
   "metadata": {},
   "outputs": [],
   "source": [
    "edges = cv2.Canny(img,100,200)\n",
    "\n",
    "fig = plt.figure(figsize=(24,8))\n",
    "plt.subplot(1,3,1),plt.imshow(img,cmap = 'gray')\n",
    "plt.title('Original'), plt.xticks([]), plt.yticks([])\n",
    "plt.subplot(1,3,2),plt.imshow(sobel_mag,cmap = 'gray')\n",
    "plt.title('Sobel: Magnitude'), plt.xticks([]), plt.yticks([])\n",
    "plt.subplot(1,3,3),plt.imshow(edges,cmap = 'gray')\n",
    "plt.title('Canny'), plt.xticks([]), plt.yticks([])\n"
   ]
  },
  {
   "cell_type": "markdown",
   "id": "cc8d213f",
   "metadata": {},
   "source": [
    "### Hough Transform"
   ]
  },
  {
   "cell_type": "code",
   "execution_count": null,
   "id": "9131f3d6",
   "metadata": {},
   "outputs": [],
   "source": [
    "fname = 'Images/airport.png'\n",
    "img = cv2.imread(fname,cv2.IMREAD_GRAYSCALE)\n",
    "\n",
    "edges = cv2.Canny(img,100,200)\n",
    "# HoughLines(image, rho_resolution, theta_resolution, how many pixels for a line)\n",
    "lines = cv2.HoughLines(edges, 1, np.pi / 180, 200)\n",
    "\n",
    "# Draw the lines\n",
    "img_dst = cv2.cvtColor(img, cv2.COLOR_GRAY2BGR)\n",
    "if lines is not None:\n",
    "    for i in range(0, len(lines)):\n",
    "        rho = lines[i][0][0]\n",
    "        theta = lines[i][0][1]\n",
    "        a = math.cos(theta)\n",
    "        b = math.sin(theta)\n",
    "        x0 = a * rho\n",
    "        y0 = b * rho\n",
    "        pt1 = (int(x0 + 1000*(-b)), int(y0 + 1000*(a)))\n",
    "        pt2 = (int(x0 - 1000*(-b)), int(y0 - 1000*(a)))\n",
    "        cv2.line(img_dst, pt1, pt2, (255,0,0), 3, cv2.LINE_AA)\n",
    "        \n",
    "fig = plt.figure(figsize=(24,8))\n",
    "plt.subplot(1,3,1),plt.imshow(img,cmap = 'gray')\n",
    "plt.title('Original'), plt.xticks([]), plt.yticks([])\n",
    "plt.subplot(1,3,2),plt.imshow(edges,cmap = 'gray')\n",
    "plt.title('Canny edges'), plt.xticks([]), plt.yticks([])\n",
    "plt.subplot(1,3,3),plt.imshow(img_dst,cmap = 'gray')\n",
    "plt.title('Hough: detected lines'), plt.xticks([]), plt.yticks([])\n"
   ]
  },
  {
   "cell_type": "code",
   "execution_count": null,
   "id": "e7339395",
   "metadata": {},
   "outputs": [],
   "source": [
    "fname = 'Images/microscope.png'\n",
    "img = cv2.imread(fname,cv2.IMREAD_GRAYSCALE)\n",
    "# HoughCircles(image, method, resolution, min distance between centers, \n",
    "#              param1 : Canny upper threshold\n",
    "#              param2 : how many pixels for a circle)\n",
    "circles = cv2.HoughCircles(img, cv2.HOUGH_GRADIENT, 1, 30,\n",
    "                               param1=75, param2=25,\n",
    "                               minRadius=1, maxRadius=150)\n",
    "\n",
    "# Draw the lines\n",
    "img_dst = cv2.cvtColor(img, cv2.COLOR_GRAY2BGR)\n",
    "if circles is not None:\n",
    "    circles = np.uint16(np.around(circles))\n",
    "    for i in circles[0, :]:\n",
    "        center = (i[0], i[1])\n",
    "        # circle center\n",
    "        #cv.circle(img_dst, center, 1, (0, 100, 100), 3)\n",
    "        # circle outline\n",
    "        radius = i[2]\n",
    "        cv2.circle(img_dst, center, radius, (255, 0, 0), 3)\n",
    "        \n",
    "fig = plt.figure(figsize=(20,10))\n",
    "plt.subplot(1,2,1),plt.imshow(img,cmap = 'gray')\n",
    "plt.title('Original'), plt.xticks([]), plt.yticks([])\n",
    "plt.subplot(1,2,2),plt.imshow(img_dst,cmap = 'gray')\n",
    "plt.title('Hough: detected circles'), plt.xticks([]), plt.yticks([])\n"
   ]
  },
  {
   "cell_type": "markdown",
   "id": "00b5a321",
   "metadata": {},
   "source": [
    "### Thresholding"
   ]
  },
  {
   "cell_type": "code",
   "execution_count": null,
   "id": "b993c17a",
   "metadata": {},
   "outputs": [],
   "source": [
    "\n",
    "fname = 'Images/Yeast.png'\n",
    "img = cv2.imread(fname,cv2.IMREAD_GRAYSCALE)\n",
    "\n",
    "# histogram\n",
    "hist = cv2.calcHist([img],[0],None,[256],[0,256])\n",
    "\n",
    "# Global\n",
    "ret, Gthres = cv2.threshold(img,50,255,cv2.THRESH_BINARY)\n",
    "\n",
    "# Otsu thresholding\n",
    "ret, Othres = cv2.threshold(img,0,255,cv2.THRESH_BINARY+cv2.THRESH_OTSU)\n",
    "\n",
    "# Adaptive Thresholdinh\n",
    "Athres = cv2.adaptiveThreshold(img,255,cv2.ADAPTIVE_THRESH_GAUSSIAN_C,\\\n",
    "            cv2.THRESH_BINARY,15,1)\n",
    "\n",
    "fig = plt.figure(figsize=(12,24))\n",
    "plt.subplot(3,2,1),plt.imshow(img,cmap = 'gray')\n",
    "plt.title('Original'), plt.xticks([]), plt.yticks([])\n",
    "plt.subplot(3,2,2),plt.plot(hist),plt.xlim([0,256])\n",
    "plt.title('Histogram'), plt.xticks([]), plt.yticks([])\n",
    "plt.subplot(3,2,3),plt.imshow(Gthres,cmap = 'gray')\n",
    "plt.title('Global Thresholding'), plt.xticks([]), plt.yticks([])\n",
    "plt.subplot(3,2,4),plt.imshow(Othres,cmap = 'gray')\n",
    "plt.title('Otsu Thresholding'), plt.xticks([]), plt.yticks([])\n",
    "plt.subplot(3,2,5),plt.imshow(Athres,cmap = 'gray')\n",
    "plt.title('Adaptive Thresholding'), plt.xticks([]), plt.yticks([])\n",
    "\n"
   ]
  },
  {
   "cell_type": "code",
   "execution_count": null,
   "id": "989310aa",
   "metadata": {},
   "outputs": [],
   "source": [
    "# identify connected components\n",
    "\n",
    "# apply connected component analysis to the thresholded image (8 connectivity)\n",
    "numLabels, labels, stats, centroids = cv2.connectedComponentsWithStats(Gthres, 8, cv2.CV_32S)\n",
    "\n",
    "def cross (x,y):\n",
    "    for cross_n in range (5):\n",
    "        if cross_n == 0:\n",
    "            xx = x \n",
    "            yy = y \n",
    "        elif cross_n == 1:\n",
    "            xx = x -3\n",
    "            yy = y \n",
    "        elif cross_n == 2:\n",
    "            xx = x +3\n",
    "            yy = y \n",
    "        elif cross_n == 3:\n",
    "            xx = x \n",
    "            yy = y -3\n",
    "        elif cross_n == 4:\n",
    "            xx = x \n",
    "            yy = y +3\n",
    "        for u in range (-1,2):\n",
    "            for v in range (-1,2):\n",
    "                labels[xx+u,yy+v] = 64\n",
    "    return\n",
    "\n",
    "print(labels.shape, '{', np.min(labels), ' ... ', np.max(labels), '}')\n",
    "\n",
    "for cen in centroids:\n",
    "    cross (int(cen[1]), int(cen[0])) \n",
    "\n",
    "\n",
    "fig = plt.figure(figsize=(10,10))\n",
    "plt.imshow((labels), cmap='gray')"
   ]
  },
  {
   "cell_type": "code",
   "execution_count": null,
   "id": "0844d870",
   "metadata": {},
   "outputs": [],
   "source": [
    "fname = 'Images/Sudoku.png'\n",
    "img = cv2.imread(fname,cv2.IMREAD_GRAYSCALE)\n",
    "\n",
    "# histogram\n",
    "hist = cv2.calcHist([img],[0],None,[256],[0,256])\n",
    "\n",
    "# Global\n",
    "ret, Gthres = cv2.threshold(img,75,255,cv2.THRESH_BINARY)\n",
    "\n",
    "# Otsu thresholding\n",
    "ret, Othres = cv2.threshold(img,0,255,cv2.THRESH_BINARY+cv2.THRESH_OTSU)\n",
    "\n",
    "# Adaptive Thresholdinh\n",
    "athres = cv2.adaptiveThreshold(img,255,cv2.ADAPTIVE_THRESH_GAUSSIAN_C,\\\n",
    "            cv2.THRESH_BINARY,11,2)\n",
    "\n",
    "fig = plt.figure(figsize=(12,18))\n",
    "plt.subplot(3,2,1),plt.imshow(img,cmap = 'gray')\n",
    "plt.title('Original'), plt.xticks([]), plt.yticks([])\n",
    "plt.subplot(3,2,2),plt.plot(hist),plt.xlim([0,256])\n",
    "plt.title('Histogram'), plt.xticks([]), plt.yticks([])\n",
    "plt.subplot(3,2,3),plt.imshow(Gthres,cmap = 'gray')\n",
    "plt.title('Global Thresholding'), plt.xticks([]), plt.yticks([])\n",
    "plt.subplot(3,2,4),plt.imshow(Othres,cmap = 'gray')\n",
    "plt.title('Otsu Thresholding'), plt.xticks([]), plt.yticks([])\n",
    "plt.subplot(3,2,5),plt.imshow(athres,cmap = 'gray')\n",
    "plt.title('Adaptive Thresholding'), plt.xticks([]), plt.yticks([])\n",
    "\n"
   ]
  },
  {
   "cell_type": "code",
   "execution_count": null,
   "id": "805e1485",
   "metadata": {},
   "outputs": [],
   "source": []
  }
 ],
 "metadata": {
  "kernelspec": {
   "display_name": "Python 3 (ipykernel)",
   "language": "python",
   "name": "python3"
  },
  "language_info": {
   "codemirror_mode": {
    "name": "ipython",
    "version": 3
   },
   "file_extension": ".py",
   "mimetype": "text/x-python",
   "name": "python",
   "nbconvert_exporter": "python",
   "pygments_lexer": "ipython3",
   "version": "3.9.5"
  }
 },
 "nbformat": 4,
 "nbformat_minor": 5
}
